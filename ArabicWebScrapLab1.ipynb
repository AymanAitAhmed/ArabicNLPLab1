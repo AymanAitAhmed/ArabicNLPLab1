{
 "cells": [
  {
   "cell_type": "markdown",
   "source": [
    "#### MST: IASD, NLP: LAB 1\n",
    "this notebook describes the steps of scraping an arabic sports website for articles, inserting data in MongoDB, establishing of NLP pipeline and using different NLP technics such us stemming, lemmetization, PoS and NER.\n",
    "this work is done by **Aymen Ait Ahmed**"
   ],
   "metadata": {
    "collapsed": false
   },
   "id": "8ae29975cee21ca7"
  },
  {
   "cell_type": "code",
   "execution_count": 2,
   "id": "initial_id",
   "metadata": {
    "collapsed": true,
    "ExecuteTime": {
     "end_time": "2024-04-04T16:13:27.763698900Z",
     "start_time": "2024-04-04T16:13:27.555100Z"
    }
   },
   "outputs": [],
   "source": [
    "from bs4 import BeautifulSoup\n",
    "import requests as rs"
   ]
  },
  {
   "cell_type": "markdown",
   "source": [
    "### Scraping www.almayadeen.net/all-sports using BeautifulSoup library"
   ],
   "metadata": {
    "collapsed": false
   },
   "id": "5a22516e32d8d728"
  },
  {
   "cell_type": "code",
   "execution_count": 3,
   "outputs": [],
   "source": [
    "url = \"https://www.almayadeen.net/all-sports\"\n",
    "\n",
    "soup = BeautifulSoup(rs.get(url).content.decode('UTF-8'))"
   ],
   "metadata": {
    "collapsed": false,
    "ExecuteTime": {
     "end_time": "2024-04-04T16:13:30.460572200Z",
     "start_time": "2024-04-04T16:13:28.409252Z"
    }
   },
   "id": "a15a9ef83460559a"
  },
  {
   "cell_type": "code",
   "execution_count": 4,
   "outputs": [],
   "source": [
    "articles = []\n",
    "for i in soup.find_all('div', {'class', 'grid-item'}):\n",
    "    try:\n",
    "        article_html = i.find('div', {'class', 'grid-title fixed-height'})\n",
    "        temp = str(article_html.a['href'].encode('utf8')).replace(r'\\x', '%').replace('/sports',\n",
    "                                                                                      '').upper().removeprefix(\n",
    "            \"B'\").removesuffix(\"'\")\n",
    "        article_link = 'https://www.almayadeen.net/sports' + temp\n",
    "        article_title = article_html.a.h4.text\n",
    "        temp_soup = BeautifulSoup(rs.get(article_link).text)\n",
    "        article_content = ''.join(\n",
    "            [i.text for i in temp_soup.find('div', {'class', 'p-content'}).find_all('p', recursive=False)])\n",
    "        article = {'link': article_link, 'title': article_title, 'content': article_content}\n",
    "        articles.append(article)\n",
    "    except:\n",
    "        continue"
   ],
   "metadata": {
    "collapsed": false,
    "ExecuteTime": {
     "end_time": "2024-04-04T16:14:05.963510700Z",
     "start_time": "2024-04-04T16:13:31.298601500Z"
    }
   },
   "id": "39aa96b1c8680f89"
  },
  {
   "cell_type": "code",
   "execution_count": 5,
   "outputs": [
    {
     "data": {
      "text/plain": "12"
     },
     "execution_count": 5,
     "metadata": {},
     "output_type": "execute_result"
    }
   ],
   "source": [
    "len(articles)"
   ],
   "metadata": {
    "collapsed": false,
    "ExecuteTime": {
     "end_time": "2024-04-04T16:14:08.237951200Z",
     "start_time": "2024-04-04T16:14:08.176830300Z"
    }
   },
   "id": "bec2f27cfb8f5b16"
  },
  {
   "cell_type": "markdown",
   "source": [
    "### Inserting data in MongoDB"
   ],
   "metadata": {
    "collapsed": false
   },
   "id": "3409b1b95da84281"
  },
  {
   "cell_type": "code",
   "execution_count": 65,
   "outputs": [
    {
     "name": "stdout",
     "output_type": "stream",
     "text": [
      "Collecting pymongo"
     ]
    },
    {
     "name": "stderr",
     "output_type": "stream",
     "text": [
      "\n",
      "[notice] A new release of pip is available: 23.2.1 -> 24.0\n",
      "[notice] To update, run: python.exe -m pip install --upgrade pip\n"
     ]
    },
    {
     "name": "stdout",
     "output_type": "stream",
     "text": [
      "\n",
      "  Obtaining dependency information for pymongo from https://files.pythonhosted.org/packages/6b/38/11db8be24e20b0885182aaa3839db2eb2be51f506a222538762e1b3723f5/pymongo-4.6.3-cp311-cp311-win_amd64.whl.metadata\n",
      "  Downloading pymongo-4.6.3-cp311-cp311-win_amd64.whl.metadata (22 kB)\n",
      "Collecting dnspython<3.0.0,>=1.16.0 (from pymongo)\n",
      "  Obtaining dependency information for dnspython<3.0.0,>=1.16.0 from https://files.pythonhosted.org/packages/87/a1/8c5287991ddb8d3e4662f71356d9656d91ab3a36618c3dd11b280df0d255/dnspython-2.6.1-py3-none-any.whl.metadata\n",
      "  Downloading dnspython-2.6.1-py3-none-any.whl.metadata (5.8 kB)\n",
      "Downloading pymongo-4.6.3-cp311-cp311-win_amd64.whl (472 kB)\n",
      "   ---------------------------------------- 0.0/472.9 kB ? eta -:--:--\n",
      "   --- ----------------------------------- 41.0/472.9 kB 960.0 kB/s eta 0:00:01\n",
      "   ----- --------------------------------- 61.4/472.9 kB 648.1 kB/s eta 0:00:01\n",
      "   --------- ------------------------------ 112.6/472.9 kB 1.1 MB/s eta 0:00:01\n",
      "   --------- ---------------------------- 122.9/472.9 kB 654.9 kB/s eta 0:00:01\n",
      "   ------------------- -------------------- 235.5/472.9 kB 1.0 MB/s eta 0:00:01\n",
      "   ------------------------ --------------- 286.7/472.9 kB 1.0 MB/s eta 0:00:01\n",
      "   ---------------------------------------- 472.9/472.9 kB 1.6 MB/s eta 0:00:00\n",
      "Downloading dnspython-2.6.1-py3-none-any.whl (307 kB)\n",
      "   ---------------------------------------- 0.0/307.7 kB ? eta -:--:--\n",
      "   ------------------------------ --------- 235.5/307.7 kB 4.8 MB/s eta 0:00:01\n",
      "   ---------------------------------------- 307.7/307.7 kB 4.7 MB/s eta 0:00:00\n",
      "Installing collected packages: dnspython, pymongo\n",
      "Successfully installed dnspython-2.6.1 pymongo-4.6.3\n"
     ]
    }
   ],
   "source": [
    "!pip install pymongo"
   ],
   "metadata": {
    "collapsed": false,
    "ExecuteTime": {
     "end_time": "2024-04-02T18:26:37.699216900Z",
     "start_time": "2024-04-02T18:26:25.244719600Z"
    }
   },
   "id": "609dcc7fc4463d91"
  },
  {
   "cell_type": "code",
   "execution_count": 66,
   "outputs": [],
   "source": [
    "import pymongo\n",
    "\n",
    "mongo_client = pymongo.MongoClient('mongodb://127.0.0.1:27017')\n"
   ],
   "metadata": {
    "collapsed": false,
    "ExecuteTime": {
     "end_time": "2024-04-02T19:53:59.049649400Z",
     "start_time": "2024-04-02T19:53:58.028316900Z"
    }
   },
   "id": "da532cb47bc96ef0"
  },
  {
   "cell_type": "code",
   "execution_count": 67,
   "outputs": [],
   "source": [
    "db = mongo_client['articles']\n",
    "db_collection = db.sportArticles"
   ],
   "metadata": {
    "collapsed": false,
    "ExecuteTime": {
     "end_time": "2024-04-02T19:55:37.056185800Z",
     "start_time": "2024-04-02T19:55:37.011185900Z"
    }
   },
   "id": "4d165466bd67e81"
  },
  {
   "cell_type": "code",
   "execution_count": 69,
   "outputs": [
    {
     "data": {
      "text/plain": "InsertManyResult([ObjectId('660c63115408d82d214bf57b'), ObjectId('660c63115408d82d214bf57c'), ObjectId('660c63115408d82d214bf57d'), ObjectId('660c63115408d82d214bf57e'), ObjectId('660c63115408d82d214bf57f'), ObjectId('660c63115408d82d214bf580'), ObjectId('660c63115408d82d214bf581'), ObjectId('660c63115408d82d214bf582'), ObjectId('660c63115408d82d214bf583'), ObjectId('660c63115408d82d214bf584'), ObjectId('660c63115408d82d214bf585'), ObjectId('660c63115408d82d214bf586')], acknowledged=True)"
     },
     "execution_count": 69,
     "metadata": {},
     "output_type": "execute_result"
    }
   ],
   "source": [
    "db_collection.insert_many(articles)"
   ],
   "metadata": {
    "collapsed": false,
    "ExecuteTime": {
     "end_time": "2024-04-02T19:57:05.065325800Z",
     "start_time": "2024-04-02T19:57:05.052291900Z"
    }
   },
   "id": "cc8e1c2ef95275a0"
  },
  {
   "cell_type": "markdown",
   "source": [
    "### Establishment of NLP Pipeline"
   ],
   "metadata": {
    "collapsed": false
   },
   "id": "daa03546d59efe32"
  },
  {
   "cell_type": "code",
   "execution_count": 70,
   "outputs": [
    {
     "name": "stdout",
     "output_type": "stream",
     "text": [
      "Collecting nltk\n",
      "  Obtaining dependency information for nltk from https://files.pythonhosted.org/packages/a6/0a/0d20d2c0f16be91b9fa32a77b76c60f9baf6eba419e5ef5deca17af9c582/nltk-3.8.1-py3-none-any.whl.metadata\n",
      "  Downloading nltk-3.8.1-py3-none-any.whl.metadata (2.8 kB)\n",
      "Collecting click (from nltk)\n",
      "  Obtaining dependency information for click from https://files.pythonhosted.org/packages/00/2e/d53fa4befbf2cfa713304affc7ca780ce4fc1fd8710527771b58311a3229/click-8.1.7-py3-none-any.whl.metadata\n",
      "  Using cached click-8.1.7-py3-none-any.whl.metadata (3.0 kB)\n",
      "Requirement already satisfied: joblib in c:\\users\\acer\\pycharmprojects\\logisticregression\\env\\python311\\lib\\site-packages (from nltk) (1.3.2)\n",
      "Collecting regex>=2021.8.3 (from nltk)\n",
      "  Obtaining dependency information for regex>=2021.8.3 from https://files.pythonhosted.org/packages/a8/01/18232f93672c1d530834e2e0568a80eaab1df12d67ae499b1762ab462b5c/regex-2023.12.25-cp311-cp311-win_amd64.whl.metadata\n",
      "  Downloading regex-2023.12.25-cp311-cp311-win_amd64.whl.metadata (41 kB)\n",
      "     ---------------------------------------- 0.0/42.0 kB ? eta -:--:--\n",
      "     ----------------------------- ---------- 30.7/42.0 kB 1.3 MB/s eta 0:00:01\n",
      "     -------------------------------------- 42.0/42.0 kB 675.2 kB/s eta 0:00:00\n",
      "Collecting tqdm (from nltk)\n",
      "  Obtaining dependency information for tqdm from https://files.pythonhosted.org/packages/2a/14/e75e52d521442e2fcc9f1df3c5e456aead034203d4797867980de558ab34/tqdm-4.66.2-py3-none-any.whl.metadata\n",
      "  Downloading tqdm-4.66.2-py3-none-any.whl.metadata (57 kB)\n",
      "     ---------------------------------------- 0.0/57.6 kB ? eta -:--:--\n",
      "     ---------------------------------------- 57.6/57.6 kB 1.0 MB/s eta 0:00:00\n",
      "Requirement already satisfied: colorama in c:\\users\\acer\\pycharmprojects\\logisticregression\\env\\python311\\lib\\site-packages (from click->nltk) (0.4.6)\n",
      "Downloading nltk-3.8.1-py3-none-any.whl (1.5 MB)\n",
      "   ---------------------------------------- 0.0/1.5 MB ? eta -:--:--\n",
      "   - -------------------------------------- 0.1/1.5 MB 3.4 MB/s eta 0:00:01\n",
      "   --- ------------------------------------ 0.1/1.5 MB 1.4 MB/s eta 0:00:01\n",
      "   ----- ---------------------------------- 0.2/1.5 MB 1.6 MB/s eta 0:00:01\n",
      "   ---------- ----------------------------- 0.4/1.5 MB 2.2 MB/s eta 0:00:01\n",
      "   -------------- ------------------------- 0.5/1.5 MB 2.4 MB/s eta 0:00:01\n",
      "   ------------------ --------------------- 0.7/1.5 MB 2.7 MB/s eta 0:00:01\n",
      "   ------------------------ --------------- 0.9/1.5 MB 2.9 MB/s eta 0:00:01\n",
      "   ---------------------------- ----------- 1.1/1.5 MB 3.0 MB/s eta 0:00:01\n",
      "   ------------------------------ --------- 1.2/1.5 MB 3.1 MB/s eta 0:00:01\n",
      "   --------------------------------- ------ 1.2/1.5 MB 2.7 MB/s eta 0:00:01\n",
      "   ---------------------------------------  1.5/1.5 MB 3.0 MB/s eta 0:00:01\n",
      "   ---------------------------------------- 1.5/1.5 MB 2.9 MB/s eta 0:00:00\n",
      "Downloading regex-2023.12.25-cp311-cp311-win_amd64.whl (269 kB)\n",
      "   ---------------------------------------- 0.0/269.5 kB ? eta -:--:--\n",
      "   ------------------------- -------------- 174.1/269.5 kB 5.3 MB/s eta 0:00:01\n",
      "   ---------------------------------------- 269.5/269.5 kB 4.1 MB/s eta 0:00:00\n",
      "Using cached click-8.1.7-py3-none-any.whl (97 kB)\n",
      "Downloading tqdm-4.66.2-py3-none-any.whl (78 kB)\n",
      "   ---------------------------------------- 0.0/78.3 kB ? eta -:--:--\n",
      "   ---------------------------------------- 78.3/78.3 kB 2.2 MB/s eta 0:00:00\n",
      "Installing collected packages: tqdm, regex, click, nltk\n",
      "Successfully installed click-8.1.7 nltk-3.8.1 regex-2023.12.25 tqdm-4.66.2\n"
     ]
    },
    {
     "name": "stderr",
     "output_type": "stream",
     "text": [
      "\n",
      "[notice] A new release of pip is available: 23.2.1 -> 24.0\n",
      "[notice] To update, run: python.exe -m pip install --upgrade pip\n"
     ]
    }
   ],
   "source": [
    "!pip install nltk"
   ],
   "metadata": {
    "collapsed": false,
    "ExecuteTime": {
     "end_time": "2024-04-02T20:07:53.279982100Z",
     "start_time": "2024-04-02T20:07:36.526564900Z"
    }
   },
   "id": "e29c2db7700e1506"
  },
  {
   "cell_type": "code",
   "execution_count": 83,
   "outputs": [
    {
     "name": "stderr",
     "output_type": "stream",
     "text": [
      "[nltk_data] Downloading package reuters to\n",
      "[nltk_data]     C:\\Users\\ACER\\AppData\\Roaming\\nltk_data...\n"
     ]
    },
    {
     "data": {
      "text/plain": "True"
     },
     "execution_count": 83,
     "metadata": {},
     "output_type": "execute_result"
    }
   ],
   "source": [
    "import nltk\n",
    "\n",
    "nltk.download('punkt')"
   ],
   "metadata": {
    "collapsed": false,
    "ExecuteTime": {
     "end_time": "2024-04-02T20:46:52.668426600Z",
     "start_time": "2024-04-02T20:46:44.654861500Z"
    }
   },
   "id": "9cf17c054ef55e00"
  },
  {
   "cell_type": "markdown",
   "source": [
    "#### Tokenization"
   ],
   "metadata": {
    "collapsed": false
   },
   "id": "97ed4c21a8927918"
  },
  {
   "cell_type": "code",
   "execution_count": 6,
   "outputs": [],
   "source": [
    "from nltk.tokenize import word_tokenize\n",
    "\n",
    "tokenized_titles = []\n",
    "tokenized_contents = []\n",
    "len_before = 0\n",
    "for article in articles:\n",
    "    tokenized_title = word_tokenize(article['title'])\n",
    "    len_before += len(tokenized_title)\n",
    "    tokenized_titles.append(tokenized_title)\n",
    "    tokenized_content = word_tokenize(article['content'])\n",
    "    len_before += len(tokenized_content)\n",
    "    tokenized_contents.append(tokenized_content)\n"
   ],
   "metadata": {
    "collapsed": false,
    "ExecuteTime": {
     "end_time": "2024-04-04T16:14:32.230415800Z",
     "start_time": "2024-04-04T16:14:29.478573500Z"
    }
   },
   "id": "e30dc2db26458201"
  },
  {
   "cell_type": "code",
   "execution_count": 88,
   "outputs": [
    {
     "name": "stderr",
     "output_type": "stream",
     "text": [
      "[nltk_data] Downloading package stopwords to\n",
      "[nltk_data]     C:\\Users\\ACER\\AppData\\Roaming\\nltk_data...\n",
      "[nltk_data]   Unzipping corpora\\stopwords.zip.\n"
     ]
    },
    {
     "data": {
      "text/plain": "True"
     },
     "execution_count": 88,
     "metadata": {},
     "output_type": "execute_result"
    }
   ],
   "source": [
    "nltk.download('stopwords')"
   ],
   "metadata": {
    "collapsed": false,
    "ExecuteTime": {
     "end_time": "2024-04-02T20:52:39.352442600Z",
     "start_time": "2024-04-02T20:52:38.793364500Z"
    }
   },
   "id": "b1ea6e30ecc5fceb"
  },
  {
   "cell_type": "markdown",
   "source": [
    "#### StopWords removal"
   ],
   "metadata": {
    "collapsed": false
   },
   "id": "202f5682984480c6"
  },
  {
   "cell_type": "code",
   "execution_count": 7,
   "outputs": [
    {
     "name": "stdout",
     "output_type": "stream",
     "text": [
      "before filtration:  1908\n",
      "after filtration:  1554\n"
     ]
    }
   ],
   "source": [
    "from nltk.corpus import stopwords\n",
    "\n",
    "stopwords = set(stopwords.words(\"arabic\"))\n",
    "filtred_titles = [word for title in tokenized_titles for word in title if not word in stopwords]\n",
    "filtred_content = [word for title in tokenized_contents for word in title if not word in stopwords]\n",
    "filtred_collection = filtred_titles + filtred_content\n",
    "print('before filtration: ',len_before)\n",
    "print('after filtration: ',len(filtred_collection))"
   ],
   "metadata": {
    "collapsed": false,
    "ExecuteTime": {
     "end_time": "2024-04-04T16:14:36.356724400Z",
     "start_time": "2024-04-04T16:14:36.296433600Z"
    }
   },
   "id": "21c8962463695f59"
  },
  {
   "cell_type": "markdown",
   "source": [
    "#### Stemming using ISRIStemmer"
   ],
   "metadata": {
    "collapsed": false
   },
   "id": "3f433e0417b48a8c"
  },
  {
   "cell_type": "code",
   "execution_count": 8,
   "outputs": [
    {
     "name": "stdout",
     "output_type": "stream",
     "text": [
      "went from ميسي to يسي\n",
      "went from يواصل to يصل\n",
      "went from الغياب to غيب\n",
      "went from وإنتر to إنتر\n",
      "went from ميامي to يمي\n",
      "went from يخسر to خسر\n",
      "went from باريس to ارس\n",
      "went from سان to سان\n",
      "went from جيرمان to جيرم\n",
      "went from يعود to يعد\n"
     ]
    }
   ],
   "source": [
    "from nltk.stem import ISRIStemmer\n",
    "\n",
    "stemmer = ISRIStemmer()\n",
    "stemmed_words = [stemmer.stem(word) for word in filtred_collection]\n",
    "for i in range(10):\n",
    "    print(f'went from {filtred_collection[i]} to {stemmed_words[i]}')"
   ],
   "metadata": {
    "collapsed": false,
    "ExecuteTime": {
     "end_time": "2024-04-04T16:15:04.147799900Z",
     "start_time": "2024-04-04T16:15:04.108458200Z"
    }
   },
   "id": "3d4373d72508c48e"
  },
  {
   "cell_type": "markdown",
   "source": [
    "#### Lemmetization using Farasa API\n",
    "Farasa is the state-of-the-art full-stack package to deal with Arabic Language Processing. It has been developed by **Arabic Language Technologies Group** at **Qatar Computing Research Institute (QCRI)**. It has a RESTful Web API that you can use through your favorable programming language."
   ],
   "metadata": {
    "collapsed": false
   },
   "id": "f4ec33a02ec76ff0"
  },
  {
   "cell_type": "code",
   "execution_count": null,
   "outputs": [],
   "source": [
    "import json\n",
    "import requests\n",
    "url = 'https://farasa.qcri.org/webapi/lemmatization/'\n",
    "t = 0\n",
    "api_key = \"vbnkEBqAmuLmFEjfqd\""
   ],
   "metadata": {
    "collapsed": false
   },
   "id": "cb9e7a50ba238608"
  },
  {
   "cell_type": "code",
   "execution_count": 10,
   "outputs": [
    {
     "data": {
      "text/plain": "{'text': ['ميس',\n  'واصل',\n  'غياب',\n  'إنتر',\n  'ميامي',\n  'خسر',\n  'باريس',\n  'سان',\n  'جيرمان',\n  'عاد',\n  'نهائي',\n  'كأس',\n  'فرنسا',\n  'واجه',\n  'ليون',\n  'أرجنتين',\n  'حافظ',\n  'تصنيف',\n  '`',\n  '`',\n  'فيفا',\n  \"'\",\n  \"'\",\n  'بطولة',\n  'وصل',\n  ':',\n  'حكمة',\n  'هزم',\n  'رياضي',\n  'فرض',\n  'مباراة',\n  'فاصل',\n  'مانشستر',\n  'سيتي',\n  'اكتسح',\n  'أستون',\n  'فيلا',\n  'رباعي',\n  'فيورنتينا',\n  'هزم',\n  'أتالانتا',\n  'ذهاب',\n  'نصف',\n  'نهائي',\n  'كأس',\n  'إيطاليا',\n  '(',\n  'فيديو',\n  ')',\n  \"'\",\n  \"'\",\n  'بريميرليغ',\n  \"'\",\n  \"'\",\n  ':',\n  'أرسنال',\n  'تصدر',\n  'موقت',\n  'فوز',\n  'لوت',\n  'تاون',\n  'اعتقال',\n  'مطار',\n  'مدريد',\n  '.',\n  '.',\n  'إطلاق',\n  'سراح',\n  'لويس',\n  'روبياليس',\n  'مانشستر',\n  'يونايتد',\n  'أعلن',\n  'إصابة',\n  'ليساندرو',\n  'مارتينيز',\n  'ليندلوف',\n  'اعتقال',\n  'رئيس',\n  'اتحاد',\n  'إسباني',\n  'سابق',\n  'لويس',\n  'روبياليس',\n  'فار',\n  'أصاب',\n  'ارتجاج',\n  'دماغ',\n  '.',\n  '.',\n  'احذر',\n  'ضربة',\n  'رأسي',\n  'روبياليس',\n  'خرج',\n  'صمت',\n  '.',\n  '.',\n  'علاقة',\n  'سعودية',\n  '؟',\n  'غاب',\n  'أرجنتيني',\n  'ليونيل',\n  'ميس',\n  '،',\n  'عانى',\n  'إصابة',\n  'عضلي',\n  'منتصف',\n  'آذار',\n  '/',\n  'مارس',\n  'ماضي',\n  '،',\n  'مباراة',\n  'فريق',\n  'إنتر',\n  'ميامي',\n  'أمريكي',\n  'مونتيري',\n  'مكسيكي',\n  'ذهاب',\n  'ربع',\n  'نهائي',\n  'كأس',\n  'بطل',\n  'كونكاكاف',\n  '.',\n  'أقام',\n  'مباراة',\n  'فجر',\n  'يوم',\n  'خميس',\n  '،',\n  'خسر',\n  'فريق',\n  'أمريكي',\n  'هدف',\n  'مقابل',\n  'هدف',\n  '.',\n  'تجنب',\n  'مدرب',\n  'إنتر',\n  'ميامي',\n  'جيراردو',\n  'تاتا',\n  'مارتينو',\n  'بت',\n  'مشاركة',\n  'ميس',\n  '،',\n  'علق',\n  'قائل',\n  '`',\n  '`',\n  'قد',\n  'تدرب',\n  '(',\n  'ثلاثاء',\n  ')',\n  'فعل',\n  '،',\n  'غد',\n  '(',\n  'أربعاء',\n  ')',\n  'حدد',\n  '.',\n  'زال',\n  '24',\n  'ساعة',\n  'متبقي',\n  \"'\",\n  \"'\",\n  'مواجهة',\n  '.',\n  'لم',\n  'شارك',\n  'ميس',\n  'نهاية',\n  'أمر',\n  'مباراة',\n  '،',\n  'تشكيلة',\n  'أساسي',\n  'إنتر',\n  'ميامي',\n  'ضم',\n  'لويس',\n  'سواريز',\n  'سيرجيو',\n  'بوسكيتس',\n  'جوردي',\n  'ألبا',\n  '.',\n  'أشار',\n  'ميس',\n  '،',\n  'تدرب',\n  'زميل',\n  'ثلاثاء',\n  '،',\n  'لعب',\n  'مباراة',\n  'لقاء',\n  'شارك',\n  'ناشفيل',\n  '13',\n  'آذار',\n  '/',\n  'مارس',\n  'ماضي',\n  '.',\n  'غاب',\n  'ميس',\n  'حين',\n  'مباراة',\n  'واحد',\n  'منتخب',\n  'أرجنتين',\n  'و',\n  '3',\n  'مباراة',\n  'إنتر',\n  'ميامي',\n  'دي',\n  'سي',\n  'يونايتد',\n  'نيويورك',\n  'ريد',\n  'بولز',\n  'نيويورك',\n  'سيتي',\n  '.',\n  'تأهل',\n  'باريس',\n  'سان',\n  'جيرمان',\n  'نهائي',\n  'كأس',\n  'فرنسا',\n  'كرة',\n  'قدم',\n  'بعدما',\n  'فاز',\n  'أربعاء',\n  'ضيف',\n  'رين',\n  'هدف',\n  'رد',\n  'سجل',\n  'كلي',\n  'مبابي',\n  'مباراة',\n  'نصف',\n  'نهائي',\n  'بطولة',\n  '.',\n  'بعد',\n  'أهدر',\n  'مبابي',\n  'ضربة',\n  'جزاء',\n  'باريس',\n  'سان',\n  'جيرمان',\n  'دقيقة',\n  'ال',\n  '37',\n  '،',\n  'سجل',\n  'هدف',\n  'مباراة',\n  'وحيد',\n  '3',\n  'دقيقة',\n  'فقط',\n  '.',\n  'واجه',\n  'باريس',\n  'سان',\n  'جيرمان',\n  'نهائي',\n  'ليون',\n  'نهائي',\n  'بطولة',\n  'كأس',\n  '12',\n  'عام',\n  'غياب',\n  'بإقصائه',\n  'أنسى',\n  '.',\n  'تاقم',\n  'مباراة',\n  'نهائي',\n  'كأس',\n  'فرنسا',\n  '25',\n  'أيار',\n  '/',\n  'مايو',\n  'مقبل',\n  '.',\n  'طمح',\n  'سان',\n  'جيرمان',\n  '،',\n  'ودع',\n  'مسابقة',\n  'ثمن',\n  'نهائي',\n  'موسم',\n  'أخير',\n  'يد',\n  'نيس',\n  'مرسيليا',\n  'ترتيب',\n  '،',\n  'استعادة',\n  'سيطرة',\n  'كأس',\n  'توج',\n  '6',\n  'مرة',\n  'موسم',\n  'تسع',\n  'أخير',\n  '،',\n  'سعي',\n  'ثلاثي',\n  '،',\n  'تصدر',\n  'دوري',\n  'فارق',\n  '12',\n  'نقطة',\n  'أقرب',\n  'مطارد',\n  'بريس',\n  '،',\n  'خاض',\n  'ربع',\n  'نهائي',\n  'مسابقة',\n  'دوري',\n  'بطل',\n  'أوربا',\n  'لاقى',\n  'برشلونه',\n  'إسباني',\n  '.',\n  'في',\n  'مقابل',\n  '،',\n  'يأمل',\n  'ليون',\n  'متوج',\n  'لقب',\n  'مسابقة',\n  '5',\n  'مرة',\n  '؛',\n  'بين',\n  'واحد',\n  'حساب',\n  'باريس',\n  'سان',\n  'جيرمان',\n  'عام',\n  '2008',\n  '.',\n  'حافظ',\n  'منتخب',\n  'أرجنتين',\n  'صدارة',\n  'تصنيف',\n  'اتحاد',\n  'دولي',\n  'كرة',\n  'قدم',\n  '`',\n  '`',\n  'فيفا',\n  \"'\",\n  \"'\",\n  '،',\n  'بين',\n  'حل',\n  'برازيل',\n  'مركز',\n  'خامس',\n  '،',\n  'ارتقى',\n  'ولاية',\n  'متحد',\n  'كولومبيا',\n  'مكسيك',\n  'مركز',\n  '.',\n  'نشر',\n  'فيفا',\n  'يوم',\n  'خميس',\n  'أحدث',\n  'تصنيف',\n  '174',\n  'مباراة',\n  'خلال',\n  'فترة',\n  'توقف',\n  'دولي',\n  'أخير',\n  '،',\n  'تصفية',\n  'آسيا',\n  'مونديال',\n  '2026',\n  '،',\n  'مرحلة',\n  'نهائي',\n  'دوري',\n  'أمة',\n  'كونكاكاف',\n  '،',\n  'مباراة',\n  'ودي',\n  'ست',\n  'اتحاد',\n  '.',\n  'استمر',\n  'أرجنتين',\n  'صدارة',\n  '،',\n  'شهد',\n  'مركز',\n  'ال',\n  '10',\n  'أول',\n  'تغير',\n  '،',\n  'استثناء',\n  'ترقي',\n  'بلجيكا',\n  'مركز',\n  'ثالث',\n  'حساب',\n  'إنكلترا',\n  '.',\n  'جاء',\n  'برازيل',\n  'مركز',\n  'خامس',\n  '،',\n  'ولي',\n  'برتغال',\n  'سادس',\n  '،',\n  'حل',\n  'هولاندا',\n  'مركز',\n  'سابع',\n  '.',\n  'كما',\n  'ظهر',\n  'ولاية',\n  'متحد',\n  'مركز',\n  'ال',\n  '11',\n  '،',\n  'متقدم',\n  'كولومبيا',\n  'صاحب',\n  'مركز',\n  'ال',\n  '12',\n  '،',\n  'قفز',\n  'مكسيك',\n  'مركز',\n  'وصل',\n  'مرتبة',\n  'ال',\n  '14',\n  'متفوق',\n  'أوروغواي',\n  'ال',\n  '15',\n  '.',\n  'فرض',\n  'حكمة',\n  'لبناني',\n  'مباراة',\n  'فاصل',\n  'غريم',\n  'مواطن',\n  'رياضي',\n  'سلسلة',\n  'نصف',\n  'نهائي',\n  'بطولة',\n  'وصل',\n  'منطقة',\n  'غرب',\n  'آسيا',\n  '،',\n  'فوز',\n  'مباراة',\n  'ثاني',\n  'وقت',\n  'إضافي',\n  'فارق',\n  '3',\n  'نقطة',\n  '،',\n  'واقع',\n  '109-106',\n  '.',\n  'فاق',\n  'حكمة',\n  'ربع',\n  'أول',\n  'نتيجة',\n  '25-21',\n  '،',\n  'نجح',\n  'رياضي',\n  'تقليص',\n  'فارق',\n  'ربع',\n  'ثاني',\n  '،',\n  'انتهى',\n  'شوط',\n  'أول',\n  'مصلحة',\n  'صاحب',\n  'أرض',\n  'نتيجة',\n  '44-42',\n  '.',\n  'نجح',\n  'رياضي',\n  'حسم',\n  'ربع',\n  'ثالث',\n  'مصلحة',\n  '(',\n  '30-27',\n  ')',\n  '،',\n  'شهد',\n  'ربع',\n  'رابع',\n  'إثارة',\n  'كبير',\n  'حيث',\n  'وسع',\n  'رياضي',\n  'فارق',\n  'عاد',\n  'حكمة',\n  'أنهى',\n  'وقت',\n  'أصلي',\n  'مباراة',\n  'نتيجة',\n  'تعادل',\n  '95-95',\n  '.',\n  'في',\n  'وقت',\n  'إضافي',\n  '،',\n  'فاق',\n  'لاعب',\n  'حكمة',\n  'سجل',\n  '14',\n  'نقطة',\n  'سلة',\n  'رياضي',\n  'مقابل',\n  '11',\n  'نقطة',\n  'أخير',\n  '،',\n  'انتهى',\n  'مباراة',\n  'فوز',\n  '`',\n  '`',\n  'أخضر',\n  \"'\",\n  \"'\",\n  'نتيجة',\n  '109-106',\n  '،',\n  'علم',\n  'أن',\n  'مباراة',\n  'أول',\n  'انتهى',\n  'فوز',\n  'رياضي',\n  'فارق',\n  '3',\n  'نقطة',\n  'أيض',\n  '.',\n  'كان',\n  'كليانتوني',\n  'إيرل',\n  'أفضل',\n  'لاعب',\n  'صف',\n  'حكمة',\n  'تحقيق',\n  'ثنائي',\n  'مزدوج',\n  '`',\n  '`',\n  'دابل',\n  'دابل',\n  \"'\",\n  \"'\",\n  'تسجيل',\n  '30',\n  'نقطة',\n  'و',\n  '21',\n  'متابعة',\n  '،',\n  'أضاف',\n  'أحمد',\n  'إبراهيم',\n  '25',\n  'نقطة',\n  '،',\n  'جوناثان',\n  'غيبسون',\n  '24',\n  'نقطة',\n  '.',\n  'من',\n  'ناحية',\n  'رياضي',\n  '،',\n  'وائل',\n  'عرقجي',\n  'أفضل',\n  'إحراز',\n  '28',\n  'نقطة',\n  '3',\n  'متابعة',\n  'و',\n  '9',\n  'تمرير',\n  'حاسم',\n  '،',\n  'حقق',\n  'دين',\n  'كيكانوفيتش',\n  '`',\n  '`',\n  'دابل',\n  'دابل',\n  \"'\",\n  \"'\",\n  'تسجيل',\n  '15',\n  'نقطة',\n  '16',\n  'متابعة',\n  '.',\n  'أقام',\n  'مباراة',\n  'فاصل',\n  'فريق',\n  'ال',\n  '17',\n  'نيسان',\n  '/',\n  'أبريل',\n  'جاري',\n  'مجمع',\n  'نوفل',\n  'معقل',\n  'نادي',\n  'رياضي',\n  'بطولة',\n  'وصل',\n  '.',\n  'اكتسح',\n  'مانشستر',\n  'سيتي',\n  'ضيف',\n  'أستون',\n  'فيلا',\n  'أربع',\n  'هدف',\n  'مقابل',\n  'هدف',\n  '،',\n  'أربعاء',\n  '،',\n  'ضمن',\n  'منافسة',\n  'جولة',\n  'ال',\n  '31',\n  'دوري',\n  'إنكليزي',\n  'ممتاز',\n  '،',\n  '`',\n  '`',\n  'بريميرليغ',\n  \"'\",\n  \"'\",\n  '.',\n  'افتتح',\n  'رودري',\n  'تسجيل',\n  'مانشستر',\n  'سيتي',\n  'دقيقة',\n  'ال',\n  '11',\n  '،',\n  'أدرك',\n  'جون',\n  'دوران',\n  'تعادل',\n  'أستون',\n  'فيلا',\n  'دقيقة',\n  'ال',\n  '20',\n  '،',\n  'أعاد',\n  'فيل',\n  'ود',\n  'تقدم',\n  'مجدد',\n  'صاحب',\n  'أرض',\n  'دقيقة',\n  'أول',\n  'وقت',\n  'بدل',\n  'ضائع',\n  '.',\n  'في',\n  'شوط',\n  'ثاني',\n  '،',\n  'عزز',\n  'ود',\n  'نتيجة',\n  'فريق',\n  'دقيقة',\n  'ال',\n  '62',\n  '،',\n  'بعد',\n  'ب',\n  '7',\n  'دقيقة',\n  'سجل',\n  'سجل',\n  'ود',\n  'هدف',\n  'شخصي',\n  'ثالث',\n  'محقق',\n  '`',\n  '`',\n  'هاتريك',\n  \"'\",\n  \"'\",\n  '،',\n  'رابع',\n  'فريق',\n  '،',\n  'انتهى',\n  'مباراة',\n  'نتيجة',\n  '4-1',\n  '.',\n  'رفع',\n  'مانشستر',\n  'سيتي',\n  'رصيد',\n  'هذا',\n  'فوز',\n  '67',\n  'نقطة',\n  'مركز',\n  'ثالث',\n  '،',\n  'تجمد',\n  'رصيد',\n  'أستون',\n  'فيلا',\n  '59',\n  'نقطة',\n  'مركز',\n  'رابع',\n  '.',\n  'فاز',\n  'فيورنتينا',\n  'ضيف',\n  'أتالانتا',\n  'هدف',\n  'مقابل',\n  'لاشيء',\n  '،',\n  'أربعاء',\n  '،',\n  'ذهاب',\n  'دور',\n  'نصف',\n  'نهائي',\n  'بطولة',\n  'كأس',\n  'إيطاليا',\n  '.',\n  'أدان',\n  'فيورنتينا',\n  'هذا',\n  'فوز',\n  'لاعب',\n  'رولاندو',\n  'ماندراغورا',\n  'سجل',\n  'هدف',\n  'مباراة',\n  'وحيد',\n  'دقيقة',\n  'ال',\n  '31',\n  '،',\n  'تسديدة',\n  'صاروخي',\n  'خارج',\n  'منطقة',\n  'جزاء',\n  '.',\n  'أقام',\n  'مباراة',\n  'إياب',\n  'فريق',\n  'ال',\n  '24',\n  'نيسان',\n  '/',\n  'أبريل',\n  'جاري',\n  '.',\n  'في',\n  'نصف',\n  'نهائي',\n  'آخر',\n  '،',\n  'فاز',\n  'يوفنتوس',\n  'لاتسيو',\n  'هدف',\n  'مقابل',\n  'شيء',\n  '،',\n  'ثلاثاء',\n  '،',\n  'ملعب',\n  '`',\n  '`',\n  'أليانز',\n  'ستاديوم',\n  \"'\",\n  \"'\",\n  'معقل',\n  'بيانكونيري',\n  '.',\n  'فاز',\n  'أرسنال',\n  'ضيف',\n  'لوت',\n  'تاون',\n  'هدف',\n  'مقابل',\n  'لاشيء',\n  '،',\n  'أربعاء',\n  '،',\n  'ضمن',\n  'منافسة',\n  'جولة',\n  'ال',\n  '31',\n  'دوري',\n  'إنكليزي',\n  'ممتاز',\n  '،',\n  '`',\n  '`',\n  'بريميرليغ',\n  \"'\",\n  \"'\",\n  '.',\n  'سجل',\n  'هدف',\n  'أرسنال',\n  ':',\n  'مارتن',\n  'أوديغارد',\n  'دقيقة',\n  'ال',\n  '24',\n  '،',\n  'دايكي',\n  'هاشيوكا',\n  'دقيقة',\n  'ال',\n  '44',\n  'خطأ',\n  'مرمى',\n  '.',\n  'رفع',\n  'أرسنال',\n  'رصيد',\n  'هذا',\n  'فوز',\n  '68',\n  'نقطة',\n  'صدارة',\n  'ترتيب',\n  'موقت',\n  '،',\n  'انتظار',\n  'مباراة',\n  'ليفربول',\n  'شيفيلد',\n  'يونايتد',\n  'خميس',\n  '.',\n  'بقي',\n  'لوت',\n  'تاون',\n  'مركز',\n  'ال',\n  '18',\n  'رصيد',\n  '22',\n  'نقطة',\n  '.',\n  'في',\n  'مباراة',\n  'آخر',\n  'ضمن',\n  'جولة',\n  'نفس',\n  '،',\n  'عادل',\n  'برينتفورد',\n  'ضيف',\n  'برايتون',\n  '،',\n  'ليتاقسم',\n  'فريق',\n  'نقطة',\n  'مباراة',\n  '،',\n  'نقطة',\n  'كل',\n  'من',\n  '.',\n  'أطلق',\n  'حرس',\n  'مدني',\n  'سراح',\n  'رئيس',\n  'اتحاد',\n  'إسباني',\n  'سابق',\n  '،',\n  'لويس',\n  'روبياليس',\n  '،',\n  'فترة',\n  'وجيز',\n  'اعتقال',\n  'وصول',\n  'مطار',\n  'أدولفو',\n  'سواريز',\n  ...]}"
     },
     "execution_count": 10,
     "metadata": {},
     "output_type": "execute_result"
    }
   ],
   "source": [
    "payload = {'text': ' '.join(filtred_collection), 'api_key': api_key}\n",
    "data = requests.post(url, data=payload)\n",
    "text = json.loads(data.text)\n",
    "text"
   ],
   "metadata": {
    "collapsed": false,
    "ExecuteTime": {
     "end_time": "2024-04-04T16:16:57.579837400Z",
     "start_time": "2024-04-04T16:16:54.609984700Z"
    }
   },
   "id": "2e3cbafc888c4487"
  },
  {
   "cell_type": "code",
   "execution_count": 11,
   "outputs": [
    {
     "name": "stdout",
     "output_type": "stream",
     "text": [
      "went from ميسي to ميس\n",
      "went from يواصل to واصل\n",
      "went from الغياب to غياب\n",
      "went from وإنتر to إنتر\n",
      "went from ميامي to ميامي\n",
      "went from يخسر to خسر\n",
      "went from باريس to باريس\n",
      "went from سان to سان\n",
      "went from جيرمان to جيرمان\n",
      "went from يعود to عاد\n"
     ]
    }
   ],
   "source": [
    "lemmetized_words = text[\"text\"]\n",
    "\n",
    "for i in range(10):\n",
    "    print(f'went from {filtred_collection[i]} to {lemmetized_words[i]}')"
   ],
   "metadata": {
    "collapsed": false,
    "ExecuteTime": {
     "end_time": "2024-04-04T16:18:51.307093200Z",
     "start_time": "2024-04-04T16:18:51.235463900Z"
    }
   },
   "id": "5ac4e1a792f05c32"
  },
  {
   "cell_type": "markdown",
   "source": [
    "#### Comparison between Stemming and Lemmetization"
   ],
   "metadata": {
    "collapsed": false
   },
   "id": "8657fd22ce15360f"
  },
  {
   "cell_type": "code",
   "execution_count": 41,
   "outputs": [
    {
     "name": "stdout",
     "output_type": "stream",
     "text": [
      "1507,  1504  1507\n"
     ]
    }
   ],
   "source": [
    "import pandas as pd\n",
    "ls = ['(', '،', ')', '.', '/', ':', '؟', 'ب', '`', 'ل', \"'\", '؛'] \n",
    "lemmetized_words_f = [i for i in lemmetized_words if not i in ls]\n",
    "stemmed_words_f = [i for i in stemmed_words if not i in ls]\n",
    "filtred_collection_f = [i for i in filtred_collection if not i in ls]"
   ],
   "metadata": {
    "collapsed": false,
    "ExecuteTime": {
     "end_time": "2024-04-04T16:49:23.271330700Z",
     "start_time": "2024-04-04T16:49:23.254043300Z"
    }
   },
   "id": "c2d2bb184efae527"
  },
  {
   "cell_type": "code",
   "execution_count": 44,
   "outputs": [
    {
     "data": {
      "text/plain": "     original stemmed lemmetized\n0        ميسي     يسي        ميس\n1       يواصل     يصل       واصل\n2      الغياب     غيب       غياب\n3       وإنتر    إنتر       إنتر\n4       ميامي     يمي      ميامي\n...       ...     ...        ...\n1499  للتحقيق     حقق       تعلق\n1500    قضايا     قضا        سوء\n1501     فساد     فسد      إدارة\n1502    تتعلق     علق        غسل\n1503     بسوء     بسء        مال\n\n[1504 rows x 3 columns]",
      "text/html": "<div>\n<style scoped>\n    .dataframe tbody tr th:only-of-type {\n        vertical-align: middle;\n    }\n\n    .dataframe tbody tr th {\n        vertical-align: top;\n    }\n\n    .dataframe thead th {\n        text-align: right;\n    }\n</style>\n<table border=\"1\" class=\"dataframe\">\n  <thead>\n    <tr style=\"text-align: right;\">\n      <th></th>\n      <th>original</th>\n      <th>stemmed</th>\n      <th>lemmetized</th>\n    </tr>\n  </thead>\n  <tbody>\n    <tr>\n      <th>0</th>\n      <td>ميسي</td>\n      <td>يسي</td>\n      <td>ميس</td>\n    </tr>\n    <tr>\n      <th>1</th>\n      <td>يواصل</td>\n      <td>يصل</td>\n      <td>واصل</td>\n    </tr>\n    <tr>\n      <th>2</th>\n      <td>الغياب</td>\n      <td>غيب</td>\n      <td>غياب</td>\n    </tr>\n    <tr>\n      <th>3</th>\n      <td>وإنتر</td>\n      <td>إنتر</td>\n      <td>إنتر</td>\n    </tr>\n    <tr>\n      <th>4</th>\n      <td>ميامي</td>\n      <td>يمي</td>\n      <td>ميامي</td>\n    </tr>\n    <tr>\n      <th>...</th>\n      <td>...</td>\n      <td>...</td>\n      <td>...</td>\n    </tr>\n    <tr>\n      <th>1499</th>\n      <td>للتحقيق</td>\n      <td>حقق</td>\n      <td>تعلق</td>\n    </tr>\n    <tr>\n      <th>1500</th>\n      <td>قضايا</td>\n      <td>قضا</td>\n      <td>سوء</td>\n    </tr>\n    <tr>\n      <th>1501</th>\n      <td>فساد</td>\n      <td>فسد</td>\n      <td>إدارة</td>\n    </tr>\n    <tr>\n      <th>1502</th>\n      <td>تتعلق</td>\n      <td>علق</td>\n      <td>غسل</td>\n    </tr>\n    <tr>\n      <th>1503</th>\n      <td>بسوء</td>\n      <td>بسء</td>\n      <td>مال</td>\n    </tr>\n  </tbody>\n</table>\n<p>1504 rows × 3 columns</p>\n</div>"
     },
     "execution_count": 44,
     "metadata": {},
     "output_type": "execute_result"
    }
   ],
   "source": [
    "df = pd.DataFrame(data={'original':filtred_collection_f[:len(lemmetized_words_f)],'stemmed':stemmed_words_f[:len(lemmetized_words_f)],'lemmetized':lemmetized_words_f})\n",
    "df"
   ],
   "metadata": {
    "collapsed": false,
    "ExecuteTime": {
     "end_time": "2024-04-04T16:50:59.844167600Z",
     "start_time": "2024-04-04T16:50:59.799423600Z"
    }
   },
   "id": "9a1ac3449359d4fc"
  },
  {
   "cell_type": "markdown",
   "source": [
    "#### PoS tagging using Farasa PoS Tagger"
   ],
   "metadata": {
    "collapsed": false
   },
   "id": "e9936fcb0d03e7c"
  },
  {
   "cell_type": "code",
   "execution_count": 45,
   "outputs": [
    {
     "data": {
      "text/plain": "{'text': [{'surface': 'S', 'POS': 'S', 'num': '', 'position': 'B'},\n  {'surface': 'ميس', 'POS': 'NOUN', 'num': 'MS', 'position': 'B'},\n  {'surface': 'واصل', 'POS': 'V', 'num': '', 'position': 'B'},\n  {'surface': 'غياب', 'POS': 'NOUN', 'num': 'MS', 'position': 'B'},\n  {'surface': 'إنتر', 'POS': 'NOUN', 'num': 'MS', 'position': 'B'},\n  {'surface': 'ميامي', 'POS': 'NOUN', 'num': 'MS', 'position': 'B'},\n  {'surface': 'خسر', 'POS': 'V', 'num': '', 'position': 'B'},\n  {'surface': 'باريس', 'POS': 'NOUN', 'num': 'MP', 'position': 'B'},\n  {'surface': 'سان', 'POS': 'NOUN', 'num': 'MS', 'position': 'B'},\n  {'surface': 'جيرمان', 'POS': 'NOUN', 'num': 'MS', 'position': 'B'},\n  {'surface': 'عاد', 'POS': 'V', 'num': '', 'position': 'B'},\n  {'surface': 'نهائي', 'POS': 'NOUN', 'num': 'MS', 'position': 'B'},\n  {'surface': 'كأس', 'POS': 'NOUN', 'num': 'MS', 'position': 'B'},\n  {'surface': 'فرنسا', 'POS': 'NOUN', 'num': 'MS', 'position': 'B'},\n  {'surface': 'واجه', 'POS': 'V', 'num': '', 'position': 'B'},\n  {'surface': 'ليون', 'POS': 'NOUN', 'num': 'FP', 'position': 'B'},\n  {'surface': 'أرجنتين', 'POS': 'NOUN', 'num': 'MS', 'position': 'B'},\n  {'surface': 'حافظ', 'POS': 'NOUN', 'num': 'MS', 'position': 'B'},\n  {'surface': 'تصنيف', 'POS': 'NOUN', 'num': 'MS', 'position': 'B'},\n  {'surface': 'فيفا', 'POS': 'NOUN', 'num': 'MS', 'position': 'B'},\n  {'surface': 'بطول +ة', 'POS': 'NOUN+NSUFF', 'num': 'FS', 'position': 'B'},\n  {'surface': 'وصل', 'POS': 'V', 'num': '', 'position': 'B'},\n  {'surface': 'حكم +ة', 'POS': 'NOUN+NSUFF', 'num': 'FS', 'position': 'B'},\n  {'surface': 'هزم', 'POS': 'V', 'num': '', 'position': 'B'},\n  {'surface': 'رياضي', 'POS': 'NOUN', 'num': 'FP', 'position': 'B'},\n  {'surface': 'فرض', 'POS': 'V', 'num': '', 'position': 'B'},\n  {'surface': 'مبارا +ة', 'POS': 'NOUN+NSUFF', 'num': 'FS', 'position': 'B'},\n  {'surface': 'فاصل', 'POS': 'NOUN', 'num': 'MS', 'position': 'B'},\n  {'surface': 'مانشستر', 'POS': 'NOUN', 'num': 'MS', 'position': 'B'},\n  {'surface': 'سيتي', 'POS': 'NOUN', 'num': 'MS', 'position': 'B'},\n  {'surface': 'اكتسح', 'POS': 'V', 'num': '', 'position': 'B'},\n  {'surface': 'أستون', 'POS': 'NOUN', 'num': 'MS', 'position': 'B'},\n  {'surface': 'فيلا', 'POS': 'NOUN', 'num': 'MS', 'position': 'B'},\n  {'surface': 'رباعي', 'POS': 'ADJ', 'num': 'MS', 'position': 'B'},\n  {'surface': 'فيورنتينا', 'POS': 'NOUN', 'num': 'MS', 'position': 'B'},\n  {'surface': 'هزم', 'POS': 'V', 'num': '', 'position': 'B'},\n  {'surface': 'أتالانتا', 'POS': 'NOUN', 'num': 'MS', 'position': 'B'},\n  {'surface': 'ذهاب', 'POS': 'NOUN', 'num': 'MS', 'position': 'B'},\n  {'surface': 'نصف', 'POS': 'NOUN', 'num': 'MS', 'position': 'B'},\n  {'surface': 'نهائي', 'POS': 'NOUN', 'num': 'MS', 'position': 'B'},\n  {'surface': 'كأس', 'POS': 'NOUN', 'num': 'MS', 'position': 'B'},\n  {'surface': 'إيطاليا', 'POS': 'NOUN', 'num': 'MS', 'position': 'B'},\n  {'surface': 'فيديو', 'POS': 'NOUN', 'num': 'MS', 'position': 'B'},\n  {'surface': 'بريميرليغ', 'POS': 'NOUN', 'num': 'MS', 'position': 'B'},\n  {'surface': 'أرسنال', 'POS': 'NOUN', 'num': 'MS', 'position': 'B'},\n  {'surface': 'تصدر', 'POS': 'V', 'num': '', 'position': 'B'},\n  {'surface': 'موقت', 'POS': 'ADJ', 'num': 'MS', 'position': 'B'},\n  {'surface': 'فوز', 'POS': 'NOUN', 'num': 'MS', 'position': 'B'},\n  {'surface': 'لوت', 'POS': 'NOUN', 'num': 'MS', 'position': 'B'},\n  {'surface': 'تاون', 'POS': 'NOUN', 'num': 'MS', 'position': 'B'},\n  {'surface': 'اعتقال', 'POS': 'NOUN', 'num': 'MS', 'position': 'B'},\n  {'surface': 'مطار', 'POS': 'NOUN', 'num': 'MS', 'position': 'B'},\n  {'surface': 'مدريد', 'POS': 'NOUN', 'num': 'MS', 'position': 'B'},\n  {'surface': 'إطلاق', 'POS': 'NOUN', 'num': 'MS', 'position': 'B'},\n  {'surface': 'سراح', 'POS': 'NOUN', 'num': 'MS', 'position': 'B'},\n  {'surface': 'لويس', 'POS': 'NOUN', 'num': 'MS', 'position': 'B'},\n  {'surface': 'روبياليس', 'POS': 'NOUN', 'num': 'MS', 'position': 'B'},\n  {'surface': 'مانشستر', 'POS': 'NOUN', 'num': 'MS', 'position': 'B'},\n  {'surface': 'يونايتد', 'POS': 'NOUN', 'num': 'MS', 'position': 'B'},\n  {'surface': 'أعلن', 'POS': 'V', 'num': '', 'position': 'B'},\n  {'surface': 'إصاب +ة', 'POS': 'NOUN+NSUFF', 'num': 'FS', 'position': 'B'},\n  {'surface': 'ليساندرو', 'POS': 'NOUN', 'num': 'MS', 'position': 'B'},\n  {'surface': 'مارتينيز', 'POS': 'NOUN', 'num': 'MS', 'position': 'B'},\n  {'surface': 'ليندلوف', 'POS': 'NOUN', 'num': 'MS', 'position': 'B'},\n  {'surface': 'اعتقال', 'POS': 'NOUN', 'num': 'MS', 'position': 'B'},\n  {'surface': 'رئيس', 'POS': 'NOUN', 'num': 'MS', 'position': 'B'},\n  {'surface': 'اتحاد', 'POS': 'NOUN', 'num': 'MS', 'position': 'B'},\n  {'surface': 'إسباني', 'POS': 'NOUN', 'num': 'FP', 'position': 'B'},\n  {'surface': 'سابق', 'POS': 'ADJ', 'num': 'MS', 'position': 'B'},\n  {'surface': 'لويس', 'POS': 'NOUN', 'num': 'MS', 'position': 'B'},\n  {'surface': 'روبياليس', 'POS': 'NOUN', 'num': 'MS', 'position': 'B'},\n  {'surface': 'فار', 'POS': 'NOUN', 'num': 'MS', 'position': 'B'},\n  {'surface': 'أصاب', 'POS': 'V', 'num': '', 'position': 'B'},\n  {'surface': 'ارتجاج', 'POS': 'NOUN', 'num': 'MS', 'position': 'B'},\n  {'surface': 'دماغ', 'POS': 'NOUN', 'num': 'MS', 'position': 'B'},\n  {'surface': 'احذر', 'POS': 'NOUN', 'num': 'MS', 'position': 'B'},\n  {'surface': 'ضرب +ة', 'POS': 'NOUN+NSUFF', 'num': 'FS', 'position': 'B'},\n  {'surface': 'رأس', 'POS': 'NOUN', 'num': 'MS', 'position': 'B'},\n  {'surface': '+ي', 'POS': 'PRON', 'num': '', 'position': 'I'},\n  {'surface': 'روبياليس', 'POS': 'NOUN', 'num': 'MS', 'position': 'B'},\n  {'surface': 'خرج', 'POS': 'V', 'num': '', 'position': 'B'},\n  {'surface': 'صمت', 'POS': 'NOUN', 'num': 'MS', 'position': 'B'},\n  {'surface': 'علاق +ة', 'POS': 'NOUN+NSUFF', 'num': 'FS', 'position': 'B'},\n  {'surface': 'سعودي +ة', 'POS': 'ADJ+NSUFF', 'num': 'FP', 'position': 'B'},\n  {'surface': 'غاب', 'POS': 'V', 'num': '', 'position': 'B'},\n  {'surface': 'أرجنتيني', 'POS': 'NOUN', 'num': 'MS', 'position': 'B'},\n  {'surface': 'ليونيل', 'POS': 'NOUN', 'num': 'MS', 'position': 'B'},\n  {'surface': 'ميس', 'POS': 'NOUN', 'num': 'MS', 'position': 'B'},\n  {'surface': 'عانى', 'POS': 'V', 'num': '', 'position': 'B'},\n  {'surface': 'إصاب +ة', 'POS': 'NOUN+NSUFF', 'num': 'FS', 'position': 'B'},\n  {'surface': 'عضلي', 'POS': 'NOUN', 'num': 'MS', 'position': 'B'},\n  {'surface': 'منتصف', 'POS': 'NOUN', 'num': 'MS', 'position': 'B'},\n  {'surface': 'آذار', 'POS': 'NOUN', 'num': 'MS', 'position': 'B'},\n  {'surface': 'مارس', 'POS': 'NOUN', 'num': 'MS', 'position': 'B'},\n  {'surface': 'ماضي', 'POS': 'NOUN', 'num': 'MS', 'position': 'B'},\n  {'surface': 'مبارا +ة', 'POS': 'NOUN+NSUFF', 'num': 'FS', 'position': 'B'},\n  {'surface': 'فريق', 'POS': 'NOUN', 'num': 'MS', 'position': 'B'},\n  {'surface': 'إنتر', 'POS': 'NOUN', 'num': 'MS', 'position': 'B'},\n  {'surface': 'ميامي', 'POS': 'NOUN', 'num': 'MS', 'position': 'B'},\n  {'surface': 'أمريكي', 'POS': 'ADJ', 'num': 'MS', 'position': 'B'},\n  {'surface': 'مونتيري', 'POS': 'NOUN', 'num': 'MS', 'position': 'B'},\n  {'surface': 'مكسيكي', 'POS': 'NOUN', 'num': 'MS', 'position': 'B'},\n  {'surface': 'ذهاب', 'POS': 'NOUN', 'num': 'MS', 'position': 'B'},\n  {'surface': 'ربع', 'POS': 'NOUN', 'num': 'MS', 'position': 'B'},\n  {'surface': 'نهائي', 'POS': 'NOUN', 'num': 'MS', 'position': 'B'},\n  {'surface': 'كأس', 'POS': 'NOUN', 'num': 'MS', 'position': 'B'},\n  {'surface': 'بطل', 'POS': 'NOUN', 'num': 'MS', 'position': 'B'},\n  {'surface': 'كونكاكاف', 'POS': 'NOUN', 'num': 'MS', 'position': 'B'},\n  {'surface': 'أقام', 'POS': 'V', 'num': '', 'position': 'B'},\n  {'surface': 'مبارا +ة', 'POS': 'NOUN+NSUFF', 'num': 'FS', 'position': 'B'},\n  {'surface': 'فجر', 'POS': 'NOUN', 'num': 'MS', 'position': 'B'},\n  {'surface': 'يوم', 'POS': 'NOUN', 'num': 'MS', 'position': 'B'},\n  {'surface': 'خميس', 'POS': 'NOUN', 'num': 'MS', 'position': 'B'},\n  {'surface': 'خسر', 'POS': 'V', 'num': '', 'position': 'B'},\n  {'surface': 'فريق', 'POS': 'NOUN', 'num': 'MS', 'position': 'B'},\n  {'surface': 'أمريكي', 'POS': 'ADJ', 'num': 'MS', 'position': 'B'},\n  {'surface': 'هدف', 'POS': 'NOUN', 'num': 'MS', 'position': 'B'},\n  {'surface': 'مقابل', 'POS': 'NOUN', 'num': 'MS', 'position': 'B'},\n  {'surface': 'هدف', 'POS': 'NOUN', 'num': 'MS', 'position': 'B'},\n  {'surface': 'تجنب', 'POS': 'NOUN', 'num': 'MS', 'position': 'B'},\n  {'surface': 'مدرب', 'POS': 'NOUN', 'num': 'MS', 'position': 'B'},\n  {'surface': 'إنتر', 'POS': 'NOUN', 'num': 'MS', 'position': 'B'},\n  {'surface': 'ميامي', 'POS': 'NOUN', 'num': 'MS', 'position': 'B'},\n  {'surface': 'جيراردو', 'POS': 'NOUN', 'num': 'MS', 'position': 'B'},\n  {'surface': 'تاتا', 'POS': 'NOUN', 'num': 'MS', 'position': 'B'},\n  {'surface': 'مارتينو', 'POS': 'NOUN', 'num': 'MS', 'position': 'B'},\n  {'surface': 'بت', 'POS': 'NOUN', 'num': 'MS', 'position': 'B'},\n  {'surface': 'مشارك +ة', 'POS': 'NOUN+NSUFF', 'num': 'FP', 'position': 'B'},\n  {'surface': 'ميس', 'POS': 'NOUN', 'num': 'MS', 'position': 'B'},\n  {'surface': 'علق', 'POS': 'V', 'num': '', 'position': 'B'},\n  {'surface': 'قائل', 'POS': 'ADJ', 'num': 'MS', 'position': 'B'},\n  {'surface': 'قد', 'POS': 'PART', 'num': '', 'position': 'B'},\n  {'surface': 'تدرب', 'POS': 'V', 'num': '', 'position': 'B'},\n  {'surface': 'ثلاثاء', 'POS': 'NOUN', 'num': 'MS', 'position': 'B'},\n  {'surface': 'فعل', 'POS': 'NOUN', 'num': 'MS', 'position': 'B'},\n  {'surface': 'غد', 'POS': 'NOUN', 'num': 'MS', 'position': 'B'},\n  {'surface': 'أربعاء', 'POS': 'NOUN', 'num': 'MS', 'position': 'B'},\n  {'surface': 'حدد', 'POS': 'V', 'num': '', 'position': 'B'},\n  {'surface': 'زال', 'POS': 'V', 'num': '', 'position': 'B'},\n  {'surface': '24', 'POS': 'NUM', 'num': 'MP', 'position': 'B'},\n  {'surface': 'ساع +ة', 'POS': 'NOUN+NSUFF', 'num': 'FS', 'position': 'B'},\n  {'surface': 'متبقي', 'POS': 'NOUN', 'num': 'MS', 'position': 'B'},\n  {'surface': 'مواجه +ة', 'POS': 'NOUN+NSUFF', 'num': 'FP', 'position': 'B'},\n  {'surface': 'لم', 'POS': 'PART', 'num': '', 'position': 'B'},\n  {'surface': 'شارك', 'POS': 'V', 'num': '', 'position': 'B'},\n  {'surface': 'ميس', 'POS': 'NOUN', 'num': 'MS', 'position': 'B'},\n  {'surface': 'نهاي +ة', 'POS': 'NOUN+NSUFF', 'num': 'FS', 'position': 'B'},\n  {'surface': 'أمر', 'POS': 'NOUN', 'num': 'MS', 'position': 'B'},\n  {'surface': 'مبارا +ة', 'POS': 'NOUN+NSUFF', 'num': 'FS', 'position': 'B'},\n  {'surface': 'تشكيل +ة', 'POS': 'NOUN+NSUFF', 'num': 'FS', 'position': 'B'},\n  {'surface': 'أساسي', 'POS': 'ADJ', 'num': 'FP', 'position': 'B'},\n  {'surface': 'إنتر', 'POS': 'NOUN', 'num': 'MS', 'position': 'B'},\n  {'surface': 'ميامي', 'POS': 'NOUN', 'num': 'MS', 'position': 'B'},\n  {'surface': 'ضم', 'POS': 'NOUN', 'num': 'MS', 'position': 'B'},\n  {'surface': 'لويس', 'POS': 'NOUN', 'num': 'MS', 'position': 'B'},\n  {'surface': 'سواريز', 'POS': 'NOUN', 'num': 'MS', 'position': 'B'},\n  {'surface': 'سيرجيو', 'POS': 'NOUN', 'num': 'MS', 'position': 'B'},\n  {'surface': 'بوسكيتس', 'POS': 'NOUN', 'num': 'MS', 'position': 'B'},\n  {'surface': 'جوردي', 'POS': 'NOUN', 'num': 'MS', 'position': 'B'},\n  {'surface': 'ألبا', 'POS': 'NOUN', 'num': 'FP', 'position': 'B'},\n  {'surface': 'أشار', 'POS': 'V', 'num': '', 'position': 'B'},\n  {'surface': 'ميس', 'POS': 'NOUN', 'num': 'MS', 'position': 'B'},\n  {'surface': 'تدرب', 'POS': 'V', 'num': '', 'position': 'B'},\n  {'surface': 'زميل', 'POS': 'NOUN', 'num': 'MS', 'position': 'B'},\n  {'surface': 'ثلاثاء', 'POS': 'NOUN', 'num': 'MS', 'position': 'B'},\n  {'surface': 'لعب', 'POS': 'V', 'num': '', 'position': 'B'},\n  {'surface': 'مبارا +ة', 'POS': 'NOUN+NSUFF', 'num': 'FS', 'position': 'B'},\n  {'surface': 'لقاء', 'POS': 'NOUN', 'num': 'MS', 'position': 'B'},\n  {'surface': 'شارك', 'POS': 'V', 'num': '', 'position': 'B'},\n  {'surface': 'ناشفيل', 'POS': 'NOUN', 'num': 'MS', 'position': 'B'},\n  {'surface': '13', 'POS': 'NUM', 'num': 'MP', 'position': 'B'},\n  {'surface': 'آذار', 'POS': 'NOUN', 'num': 'MS', 'position': 'B'},\n  {'surface': 'مارس', 'POS': 'NOUN', 'num': 'MS', 'position': 'B'},\n  {'surface': 'ماضي', 'POS': 'NOUN', 'num': 'MS', 'position': 'B'},\n  {'surface': 'غاب', 'POS': 'V', 'num': '', 'position': 'B'},\n  {'surface': 'ميس', 'POS': 'NOUN', 'num': 'MS', 'position': 'B'},\n  {'surface': 'حين', 'POS': 'NOUN', 'num': 'MS', 'position': 'B'},\n  {'surface': 'مبارا +ة', 'POS': 'NOUN+NSUFF', 'num': 'FS', 'position': 'B'},\n  {'surface': 'واحد', 'POS': 'NOUN', 'num': 'MS', 'position': 'B'},\n  {'surface': 'منتخب', 'POS': 'ADJ', 'num': 'MS', 'position': 'B'},\n  {'surface': 'أرجنتين', 'POS': 'NOUN', 'num': 'MS', 'position': 'B'},\n  {'surface': 'و', 'POS': 'CONJ', 'num': '', 'position': 'B'},\n  {'surface': '3', 'POS': 'NUM', 'num': 'MP', 'position': 'B'},\n  {'surface': 'مبارا +ة', 'POS': 'NOUN+NSUFF', 'num': 'FS', 'position': 'B'},\n  {'surface': 'إنتر', 'POS': 'NOUN', 'num': 'MS', 'position': 'B'},\n  {'surface': 'ميامي', 'POS': 'NOUN', 'num': 'MS', 'position': 'B'},\n  {'surface': 'دي', 'POS': 'NOUN', 'num': 'MS', 'position': 'B'},\n  {'surface': 'سي', 'POS': 'ABBREV', 'num': '', 'position': 'B'},\n  {'surface': 'يونايتد', 'POS': 'NOUN', 'num': 'MS', 'position': 'B'},\n  {'surface': 'نيويورك', 'POS': 'NOUN', 'num': 'MS', 'position': 'B'},\n  {'surface': 'ريد', 'POS': 'NOUN', 'num': 'MS', 'position': 'B'},\n  {'surface': 'بولز', 'POS': 'NOUN', 'num': 'MS', 'position': 'B'},\n  {'surface': 'نيويورك', 'POS': 'NOUN', 'num': 'MS', 'position': 'B'},\n  {'surface': 'سيتي', 'POS': 'NOUN', 'num': 'MS', 'position': 'B'},\n  {'surface': 'تأهل', 'POS': 'NOUN', 'num': 'MS', 'position': 'B'},\n  {'surface': 'باريس', 'POS': 'NOUN', 'num': 'MP', 'position': 'B'},\n  {'surface': 'سان', 'POS': 'NOUN', 'num': 'MS', 'position': 'B'},\n  {'surface': 'جيرمان', 'POS': 'NOUN', 'num': 'MS', 'position': 'B'},\n  {'surface': 'نهائي', 'POS': 'ADJ', 'num': 'MS', 'position': 'B'},\n  {'surface': 'كأس', 'POS': 'NOUN', 'num': 'MS', 'position': 'B'},\n  {'surface': 'فرنسا', 'POS': 'NOUN', 'num': 'MS', 'position': 'B'},\n  {'surface': 'كر +ة', 'POS': 'NOUN+NSUFF', 'num': 'FS', 'position': 'B'},\n  {'surface': 'قدم', 'POS': 'NOUN', 'num': 'MS', 'position': 'B'},\n  {'surface': 'بعدما', 'POS': 'PART', 'num': '', 'position': 'B'},\n  {'surface': 'فاز', 'POS': 'V', 'num': '', 'position': 'B'},\n  {'surface': 'أربعاء', 'POS': 'NOUN', 'num': 'MS', 'position': 'B'},\n  {'surface': 'ضيف', 'POS': 'NOUN', 'num': 'MS', 'position': 'B'},\n  {'surface': 'رين', 'POS': 'NOUN', 'num': 'MS', 'position': 'B'},\n  {'surface': 'هدف', 'POS': 'NOUN', 'num': 'MS', 'position': 'B'},\n  {'surface': 'رد', 'POS': 'NOUN', 'num': 'MS', 'position': 'B'},\n  {'surface': 'سجل', 'POS': 'V', 'num': '', 'position': 'B'},\n  {'surface': 'كلي', 'POS': 'ADJ', 'num': 'MS', 'position': 'B'},\n  {'surface': 'مبابي', 'POS': 'NOUN', 'num': 'MS', 'position': 'B'},\n  {'surface': 'مبارا +ة', 'POS': 'NOUN+NSUFF', 'num': 'FS', 'position': 'B'},\n  {'surface': 'نصف', 'POS': 'NOUN', 'num': 'MS', 'position': 'B'},\n  {'surface': 'نهائي', 'POS': 'NOUN', 'num': 'MS', 'position': 'B'},\n  {'surface': 'بطول +ة', 'POS': 'NOUN+NSUFF', 'num': 'FS', 'position': 'B'},\n  {'surface': 'بعد', 'POS': 'NOUN', 'num': 'MS', 'position': 'B'},\n  {'surface': 'أهدر', 'POS': 'V', 'num': '', 'position': 'B'},\n  {'surface': 'مبابي', 'POS': 'NOUN', 'num': 'MS', 'position': 'B'},\n  {'surface': 'ضرب +ة', 'POS': 'NOUN+NSUFF', 'num': 'FS', 'position': 'B'},\n  {'surface': 'جزاء', 'POS': 'NOUN', 'num': 'MS', 'position': 'B'},\n  {'surface': 'باريس', 'POS': 'NOUN', 'num': 'MP', 'position': 'B'},\n  {'surface': 'سان', 'POS': 'NOUN', 'num': 'MS', 'position': 'B'},\n  {'surface': 'جيرمان', 'POS': 'NOUN', 'num': 'MS', 'position': 'B'},\n  {'surface': 'دقيق +ة', 'POS': 'NOUN+NSUFF', 'num': 'FS', 'position': 'B'},\n  {'surface': 'ال', 'POS': 'DET', 'num': '', 'position': 'B'},\n  {'surface': '37', 'POS': 'NUM', 'num': 'MP', 'position': 'B'},\n  {'surface': 'سجل', 'POS': 'V', 'num': '', 'position': 'B'},\n  {'surface': 'هدف', 'POS': 'NOUN', 'num': 'MS', 'position': 'B'},\n  {'surface': 'مبارا +ة', 'POS': 'NOUN+NSUFF', 'num': 'FS', 'position': 'B'},\n  {'surface': 'وحيد', 'POS': 'NOUN', 'num': 'MS', 'position': 'B'},\n  {'surface': '3', 'POS': 'NUM', 'num': 'MP', 'position': 'B'},\n  {'surface': 'دقيق +ة', 'POS': 'NOUN+NSUFF', 'num': 'FS', 'position': 'B'},\n  {'surface': 'فقط', 'POS': 'ADV', 'num': '', 'position': 'B'},\n  {'surface': 'واجه', 'POS': 'V', 'num': '', 'position': 'B'},\n  {'surface': 'باريس', 'POS': 'NOUN', 'num': 'MP', 'position': 'B'},\n  {'surface': 'سان', 'POS': 'NOUN', 'num': 'MS', 'position': 'B'},\n  {'surface': 'جيرمان', 'POS': 'NOUN', 'num': 'MS', 'position': 'B'},\n  {'surface': 'نهائي', 'POS': 'ADJ', 'num': 'MS', 'position': 'B'},\n  {'surface': 'ليون', 'POS': 'NOUN', 'num': 'FP', 'position': 'B'},\n  {'surface': 'نهائي', 'POS': 'NOUN', 'num': 'MS', 'position': 'B'},\n  {'surface': 'بطول +ة', 'POS': 'NOUN+NSUFF', 'num': 'FS', 'position': 'B'},\n  {'surface': 'كأس', 'POS': 'NOUN', 'num': 'MS', 'position': 'B'},\n  {'surface': '12', 'POS': 'NUM', 'num': 'MP', 'position': 'B'},\n  {'surface': 'عام', 'POS': 'NOUN', 'num': 'MS', 'position': 'B'},\n  {'surface': 'غياب', 'POS': 'NOUN', 'num': 'MS', 'position': 'B'},\n  {'surface': 'بإقصائه', 'POS': 'NOUN', 'num': 'MS', 'position': 'B'},\n  {'surface': 'أنسى', 'POS': 'ADJ', 'num': 'MS', 'position': 'B'},\n  {'surface': 'تاقم', 'POS': 'NOUN', 'num': 'MS', 'position': 'B'},\n  {'surface': 'مبارا +ة', 'POS': 'NOUN+NSUFF', 'num': 'FS', 'position': 'B'},\n  {'surface': 'نهائي', 'POS': 'NOUN', 'num': 'MS', 'position': 'B'},\n  {'surface': 'كأس', 'POS': 'NOUN', 'num': 'MS', 'position': 'B'},\n  {'surface': 'فرنسا', 'POS': 'NOUN', 'num': 'MS', 'position': 'B'},\n  {'surface': '25', 'POS': 'NUM', 'num': 'MP', 'position': 'B'},\n  {'surface': 'أيار', 'POS': 'NOUN', 'num': 'MS', 'position': 'B'},\n  {'surface': 'مايو', 'POS': 'NOUN', 'num': 'MS', 'position': 'B'},\n  {'surface': 'مقبل', 'POS': 'NOUN', 'num': 'MS', 'position': 'B'},\n  {'surface': 'طمح', 'POS': 'NOUN', 'num': 'MS', 'position': 'B'},\n  {'surface': 'سان', 'POS': 'NOUN', 'num': 'MS', 'position': 'B'},\n  {'surface': 'جيرمان', 'POS': 'NOUN', 'num': 'MS', 'position': 'B'},\n  {'surface': 'ودع', 'POS': 'V', 'num': '', 'position': 'B'},\n  {'surface': 'مسابق +ة', 'POS': 'NOUN+NSUFF', 'num': 'FS', 'position': 'B'},\n  {'surface': 'ثمن', 'POS': 'NOUN', 'num': 'MS', 'position': 'B'},\n  {'surface': 'نهائي', 'POS': 'NOUN', 'num': 'MS', 'position': 'B'},\n  {'surface': 'موسم', 'POS': 'NOUN', 'num': 'MS', 'position': 'B'},\n  {'surface': 'أخير', 'POS': 'ADJ', 'num': 'MS', 'position': 'B'},\n  {'surface': 'يد', 'POS': 'NOUN', 'num': 'MS', 'position': 'B'},\n  {'surface': 'نيس', 'POS': 'NOUN', 'num': 'MS', 'position': 'B'},\n  {'surface': 'مرسيليا', 'POS': 'NOUN', 'num': 'MS', 'position': 'B'},\n  {'surface': 'ترتيب', 'POS': 'NOUN', 'num': 'MS', 'position': 'B'},\n  {'surface': 'استعاد +ة', 'POS': 'NOUN+NSUFF', 'num': 'FS', 'position': 'B'},\n  {'surface': 'سيطر +ة', 'POS': 'NOUN+NSUFF', 'num': 'MP', 'position': 'B'},\n  {'surface': 'كأس', 'POS': 'NOUN', 'num': 'MS', 'position': 'B'},\n  {'surface': 'توج', 'POS': 'V', 'num': '', 'position': 'B'},\n  {'surface': '6', 'POS': 'NUM', 'num': 'MP', 'position': 'B'},\n  {'surface': 'مر +ة', 'POS': 'NOUN+NSUFF', 'num': 'FS', 'position': 'B'},\n  {'surface': 'موسم', 'POS': 'NOUN', 'num': 'MS', 'position': 'B'},\n  {'surface': 'تسع', 'POS': 'NUM', 'num': 'MP', 'position': 'B'},\n  {'surface': 'أخير', 'POS': 'NOUN', 'num': 'MS', 'position': 'B'},\n  {'surface': 'سعي', 'POS': 'NOUN', 'num': 'MS', 'position': 'B'},\n  {'surface': 'ثلاثي', 'POS': 'ADJ', 'num': 'MS', 'position': 'B'},\n  {'surface': 'تصدر', 'POS': 'V', 'num': '', 'position': 'B'},\n  {'surface': 'دوري', 'POS': 'NOUN', 'num': 'MS', 'position': 'B'},\n  {'surface': 'فارق', 'POS': 'NOUN', 'num': 'MS', 'position': 'B'},\n  {'surface': '12', 'POS': 'NUM', 'num': 'MP', 'position': 'B'},\n  {'surface': 'نقط +ة', 'POS': 'NOUN+NSUFF', 'num': 'FS', 'position': 'B'},\n  {'surface': 'أقرب', 'POS': 'ADJ', 'num': 'MS', 'position': 'B'},\n  {'surface': 'مطارد', 'POS': 'NOUN', 'num': 'MS', 'position': 'B'},\n  {'surface': 'ب+', 'POS': 'PREP', 'num': '', 'position': 'B'},\n  {'surface': 'ريس', 'POS': 'NOUN', 'num': 'MS', 'position': 'I'},\n  {'surface': 'خاض', 'POS': 'V', 'num': '', 'position': 'B'},\n  {'surface': 'ربع', 'POS': 'NOUN', 'num': 'MS', 'position': 'B'},\n  {'surface': 'نهائي', 'POS': 'NOUN', 'num': 'MS', 'position': 'B'},\n  {'surface': 'مسابق +ة', 'POS': 'NOUN+NSUFF', 'num': 'FS', 'position': 'B'},\n  {'surface': 'دوري', 'POS': 'NOUN', 'num': 'MS', 'position': 'B'},\n  {'surface': 'بطل', 'POS': 'NOUN', 'num': 'MS', 'position': 'B'},\n  {'surface': 'أوربا', 'POS': 'NOUN', 'num': 'MS', 'position': 'B'},\n  {'surface': 'لاقى', 'POS': 'V', 'num': '', 'position': 'B'},\n  {'surface': 'برشلونه', 'POS': 'NOUN', 'num': 'MS', 'position': 'B'},\n  {'surface': 'إسباني', 'POS': 'NOUN', 'num': 'FP', 'position': 'B'},\n  {'surface': 'في', 'POS': 'PREP', 'num': '', 'position': 'B'},\n  {'surface': 'مقابل', 'POS': 'NOUN', 'num': 'MS', 'position': 'B'},\n  {'surface': 'يأمل', 'POS': 'V', 'num': '', 'position': 'B'},\n  {'surface': 'ليون', 'POS': 'NOUN', 'num': 'FP', 'position': 'B'},\n  {'surface': 'متوج', 'POS': 'NOUN', 'num': 'MS', 'position': 'B'},\n  {'surface': 'لقب', 'POS': 'NOUN', 'num': 'MS', 'position': 'B'},\n  {'surface': 'مسابق +ة', 'POS': 'NOUN+NSUFF', 'num': 'FS', 'position': 'B'},\n  {'surface': '5', 'POS': 'NUM', 'num': 'MP', 'position': 'B'},\n  {'surface': 'مر +ة', 'POS': 'NOUN+NSUFF', 'num': 'FS', 'position': 'B'},\n  {'surface': 'بين', 'POS': 'NOUN', 'num': 'MS', 'position': 'B'},\n  {'surface': 'واحد', 'POS': 'NUM', 'num': 'MS', 'position': 'B'},\n  {'surface': 'حساب', 'POS': 'NOUN', 'num': 'MS', 'position': 'B'},\n  {'surface': 'باريس', 'POS': 'NOUN', 'num': 'MP', 'position': 'B'},\n  {'surface': 'سان', 'POS': 'NOUN', 'num': 'MS', 'position': 'B'},\n  {'surface': 'جيرمان', 'POS': 'NOUN', 'num': 'MS', 'position': 'B'},\n  {'surface': 'عام', 'POS': 'ADJ', 'num': 'MS', 'position': 'B'},\n  {'surface': '2008', 'POS': 'NUM', 'num': 'MP', 'position': 'B'},\n  {'surface': 'حافظ', 'POS': 'NOUN', 'num': 'MS', 'position': 'B'},\n  {'surface': 'منتخب', 'POS': 'NOUN', 'num': 'MS', 'position': 'B'},\n  {'surface': 'أرجنتين', 'POS': 'NOUN', 'num': 'MS', 'position': 'B'},\n  {'surface': 'صدار +ة', 'POS': 'NOUN+NSUFF', 'num': 'FS', 'position': 'B'},\n  {'surface': 'تصنيف', 'POS': 'NOUN', 'num': 'MS', 'position': 'B'},\n  {'surface': 'اتحاد', 'POS': 'NOUN', 'num': 'MS', 'position': 'B'},\n  {'surface': 'دولي', 'POS': 'ADJ', 'num': 'MS', 'position': 'B'},\n  {'surface': 'كر +ة', 'POS': 'NOUN+NSUFF', 'num': 'FS', 'position': 'B'},\n  {'surface': 'قدم', 'POS': 'NOUN', 'num': 'MS', 'position': 'B'},\n  {'surface': 'فيفا', 'POS': 'NOUN', 'num': 'MS', 'position': 'B'},\n  {'surface': 'بين', 'POS': 'NOUN', 'num': 'MS', 'position': 'B'},\n  {'surface': 'حل', 'POS': 'NOUN', 'num': 'MS', 'position': 'B'},\n  {'surface': 'برازيل', 'POS': 'NOUN', 'num': 'FP', 'position': 'B'},\n  {'surface': 'مركز', 'POS': 'NOUN', 'num': 'MS', 'position': 'B'},\n  {'surface': 'خامس', 'POS': 'ADJ', 'num': 'MS', 'position': 'B'},\n  {'surface': 'ارتقى', 'POS': 'V', 'num': '', 'position': 'B'},\n  {'surface': 'ولاي +ة', 'POS': 'NOUN+NSUFF', 'num': 'FS', 'position': 'B'},\n  {'surface': 'متحد', 'POS': 'NOUN', 'num': 'MS', 'position': 'B'},\n  {'surface': 'كولومبيا', 'POS': 'NOUN', 'num': 'MS', 'position': 'B'},\n  {'surface': 'مكسيك', 'POS': 'NOUN', 'num': 'MS', 'position': 'B'},\n  {'surface': 'مركز', 'POS': 'NOUN', 'num': 'MS', 'position': 'B'},\n  {'surface': 'نشر', 'POS': 'NOUN', 'num': 'MS', 'position': 'B'},\n  {'surface': 'فيفا', 'POS': 'NOUN', 'num': 'MS', 'position': 'B'},\n  {'surface': 'يوم', 'POS': 'NOUN', 'num': 'MS', 'position': 'B'},\n  {'surface': 'خميس', 'POS': 'NOUN', 'num': 'MS', 'position': 'B'},\n  {'surface': 'أحدث', 'POS': 'NOUN', 'num': 'MS', 'position': 'B'},\n  {'surface': 'تصنيف', 'POS': 'NOUN', 'num': 'MS', 'position': 'B'},\n  {'surface': '174', 'POS': 'NUM', 'num': 'MP', 'position': 'B'},\n  {'surface': 'مبارا +ة', 'POS': 'NOUN+NSUFF', 'num': 'FS', 'position': 'B'},\n  {'surface': 'خلال', 'POS': 'NOUN', 'num': 'MS', 'position': 'B'},\n  {'surface': 'فتر +ة', 'POS': 'NOUN+NSUFF', 'num': 'FS', 'position': 'B'},\n  {'surface': 'توقف', 'POS': 'NOUN', 'num': 'MS', 'position': 'B'},\n  {'surface': 'دولي', 'POS': 'ADJ', 'num': 'MS', 'position': 'B'},\n  {'surface': 'أخير', 'POS': 'ADJ', 'num': 'MS', 'position': 'B'},\n  {'surface': 'تصفي +ة', 'POS': 'NOUN+NSUFF', 'num': 'FS', 'position': 'B'},\n  {'surface': 'آسيا', 'POS': 'NOUN', 'num': 'MS', 'position': 'B'},\n  {'surface': 'مونديال', 'POS': 'NOUN', 'num': 'MS', 'position': 'B'},\n  {'surface': '2026', 'POS': 'NUM', 'num': 'MP', 'position': 'B'},\n  {'surface': 'مرحل +ة', 'POS': 'NOUN+NSUFF', 'num': 'FS', 'position': 'B'},\n  {'surface': 'نهائي', 'POS': 'ADJ', 'num': 'MS', 'position': 'B'},\n  {'surface': 'دوري', 'POS': 'NOUN', 'num': 'MS', 'position': 'B'},\n  {'surface': 'أم +ة', 'POS': 'NOUN+NSUFF', 'num': 'FP', 'position': 'B'},\n  {'surface': 'كونكاكاف', 'POS': 'NOUN', 'num': 'MS', 'position': 'B'},\n  {'surface': 'مبارا +ة', 'POS': 'NOUN+NSUFF', 'num': 'FS', 'position': 'B'},\n  {'surface': 'ودي', 'POS': 'ADJ', 'num': 'MS', 'position': 'B'},\n  {'surface': 'ست', 'POS': 'NUM', 'num': 'MS', 'position': 'B'},\n  {'surface': 'اتحاد', 'POS': 'NOUN', 'num': 'MS', 'position': 'B'},\n  {'surface': 'استمر', 'POS': 'V', 'num': '', 'position': 'B'},\n  {'surface': 'أرجنتين', 'POS': 'NOUN', 'num': 'MS', 'position': 'B'},\n  {'surface': 'صدار +ة', 'POS': 'NOUN+NSUFF', 'num': 'FS', 'position': 'B'},\n  {'surface': 'شهد', 'POS': 'V', 'num': '', 'position': 'B'},\n  {'surface': 'مركز', 'POS': 'NOUN', 'num': 'MS', 'position': 'B'},\n  {'surface': 'ال', 'POS': 'DET', 'num': '', 'position': 'B'},\n  {'surface': '10', 'POS': 'NUM', 'num': 'MP', 'position': 'B'},\n  {'surface': 'أول', 'POS': 'ADJ', 'num': 'MS', 'position': 'B'},\n  {'surface': 'تغير', 'POS': 'V', 'num': '', 'position': 'B'},\n  {'surface': 'استثناء', 'POS': 'NOUN', 'num': 'MS', 'position': 'B'},\n  {'surface': 'ترقي', 'POS': 'NOUN', 'num': 'MS', 'position': 'B'},\n  {'surface': 'بلجيكا', 'POS': 'NOUN', 'num': 'MS', 'position': 'B'},\n  {'surface': 'مركز', 'POS': 'NOUN', 'num': 'MS', 'position': 'B'},\n  {'surface': 'ثالث', 'POS': 'ADJ', 'num': 'MS', 'position': 'B'},\n  {'surface': 'حساب', 'POS': 'NOUN', 'num': 'MS', 'position': 'B'},\n  {'surface': 'إنكلترا', 'POS': 'NOUN', 'num': 'MS', 'position': 'B'},\n  {'surface': 'جاء', 'POS': 'V', 'num': '', 'position': 'B'},\n  {'surface': 'برازيل', 'POS': 'NOUN', 'num': 'FP', 'position': 'B'},\n  {'surface': 'مركز', 'POS': 'NOUN', 'num': 'MS', 'position': 'B'},\n  {'surface': 'خامس', 'POS': 'ADJ', 'num': 'MS', 'position': 'B'},\n  {'surface': 'ولي', 'POS': 'NOUN', 'num': 'MS', 'position': 'B'},\n  {'surface': 'برتغال', 'POS': 'NOUN', 'num': 'MS', 'position': 'B'},\n  {'surface': 'سادس', 'POS': 'ADJ', 'num': 'MS', 'position': 'B'},\n  {'surface': 'حل', 'POS': 'V', 'num': '', 'position': 'B'},\n  {'surface': 'هولاندا', 'POS': 'NOUN', 'num': 'MS', 'position': 'B'},\n  {'surface': 'مركز', 'POS': 'NOUN', 'num': 'MS', 'position': 'B'},\n  {'surface': 'سابع', 'POS': 'ADJ', 'num': 'MS', 'position': 'B'},\n  {'surface': 'كما', 'POS': 'PREP+PART', 'num': '', 'position': 'B'},\n  {'surface': 'ظهر', 'POS': 'V', 'num': '', 'position': 'B'},\n  {'surface': 'ولاي +ة', 'POS': 'NOUN+NSUFF', 'num': 'FS', 'position': 'B'},\n  {'surface': 'متحد', 'POS': 'NOUN', 'num': 'MS', 'position': 'B'},\n  {'surface': 'مركز', 'POS': 'NOUN', 'num': 'MS', 'position': 'B'},\n  {'surface': 'ال', 'POS': 'DET', 'num': '', 'position': 'B'},\n  {'surface': '11', 'POS': 'NUM', 'num': 'MP', 'position': 'B'},\n  {'surface': 'متقدم', 'POS': 'ADJ', 'num': 'MS', 'position': 'B'},\n  {'surface': 'كولومبيا', 'POS': 'NOUN', 'num': 'MS', 'position': 'B'},\n  {'surface': 'صاحب', 'POS': 'NOUN', 'num': 'MS', 'position': 'B'},\n  {'surface': 'مركز', 'POS': 'NOUN', 'num': 'MS', 'position': 'B'},\n  {'surface': 'ال', 'POS': 'DET', 'num': '', 'position': 'B'},\n  {'surface': '12', 'POS': 'NUM', 'num': 'MP', 'position': 'B'},\n  {'surface': 'قفز', 'POS': 'V', 'num': '', 'position': 'B'},\n  {'surface': 'مكسيك', 'POS': 'NOUN', 'num': 'MS', 'position': 'B'},\n  {'surface': 'مركز', 'POS': 'NOUN', 'num': 'MS', 'position': 'B'},\n  {'surface': 'وصل', 'POS': 'NOUN', 'num': 'MS', 'position': 'B'},\n  {'surface': 'مرتب +ة', 'POS': 'NOUN+NSUFF', 'num': 'FS', 'position': 'B'},\n  {'surface': 'ال', 'POS': 'DET', 'num': '', 'position': 'B'},\n  {'surface': '14', 'POS': 'NUM', 'num': 'MP', 'position': 'B'},\n  {'surface': 'متفوق', 'POS': 'ADJ', 'num': 'MS', 'position': 'B'},\n  {'surface': 'أوروغواي', 'POS': 'NOUN', 'num': 'MS', 'position': 'B'},\n  {'surface': 'ال', 'POS': 'DET', 'num': '', 'position': 'B'},\n  {'surface': '15', 'POS': 'NUM', 'num': 'MP', 'position': 'B'},\n  {'surface': 'فرض', 'POS': 'NOUN', 'num': 'MS', 'position': 'B'},\n  {'surface': 'حكم +ة', 'POS': 'NOUN+NSUFF', 'num': 'FS', 'position': 'B'},\n  {'surface': 'لبناني', 'POS': 'NOUN', 'num': 'MS', 'position': 'B'},\n  {'surface': 'مبارا +ة', 'POS': 'NOUN+NSUFF', 'num': 'FS', 'position': 'B'},\n  {'surface': 'فاصل', 'POS': 'NOUN', 'num': 'MS', 'position': 'B'},\n  {'surface': 'غريم', 'POS': 'NOUN', 'num': 'MS', 'position': 'B'},\n  {'surface': 'مواطن', 'POS': 'NOUN', 'num': 'FP', 'position': 'B'},\n  {'surface': 'رياضي', 'POS': 'ADJ', 'num': 'FP', 'position': 'B'},\n  {'surface': 'سلسل +ة', 'POS': 'NOUN+NSUFF', 'num': 'FS', 'position': 'B'},\n  {'surface': 'نصف', 'POS': 'NOUN', 'num': 'MS', 'position': 'B'},\n  {'surface': 'نهائي', 'POS': 'NOUN', 'num': 'MS', 'position': 'B'},\n  {'surface': 'بطول +ة', 'POS': 'NOUN+NSUFF', 'num': 'FS', 'position': 'B'},\n  {'surface': 'وصل', 'POS': 'V', 'num': '', 'position': 'B'},\n  {'surface': 'منطق +ة', 'POS': 'NOUN+NSUFF', 'num': 'FS', 'position': 'B'},\n  {'surface': 'غرب', 'POS': 'NOUN', 'num': 'MS', 'position': 'B'},\n  {'surface': 'آسيا', 'POS': 'NOUN', 'num': 'MS', 'position': 'B'},\n  {'surface': 'فوز', 'POS': 'NOUN', 'num': 'MS', 'position': 'B'},\n  {'surface': 'مبارا +ة', 'POS': 'NOUN+NSUFF', 'num': 'FS', 'position': 'B'},\n  {'surface': 'ثاني', 'POS': 'ADJ', 'num': 'MS', 'position': 'B'},\n  {'surface': 'وقت', 'POS': 'NOUN', 'num': 'MS', 'position': 'B'},\n  {'surface': 'إضافي', 'POS': 'ADJ', 'num': 'MS', 'position': 'B'},\n  {'surface': 'فارق', 'POS': 'NOUN', 'num': 'MS', 'position': 'B'},\n  {'surface': '3', 'POS': 'NUM', 'num': 'MP', 'position': 'B'},\n  {'surface': 'نقط +ة', 'POS': 'NOUN+NSUFF', 'num': 'FS', 'position': 'B'},\n  {'surface': 'واقع', 'POS': 'ADJ', 'num': 'MS', 'position': 'B'},\n  {'surface': '109-106', 'POS': 'PUNC', 'num': '', 'position': 'B'},\n  {'surface': 'فاق', 'POS': 'V', 'num': '', 'position': 'B'},\n  {'surface': 'حكم +ة', 'POS': 'NOUN+NSUFF', 'num': 'FS', 'position': 'B'},\n  {'surface': 'ربع', 'POS': 'NOUN', 'num': 'MS', 'position': 'B'},\n  {'surface': 'أول', 'POS': 'ADJ', 'num': 'MS', 'position': 'B'},\n  {'surface': 'نتيج +ة', 'POS': 'NOUN+NSUFF', 'num': 'FS', 'position': 'B'},\n  {'surface': '25-21', 'POS': 'PUNC', 'num': '', 'position': 'B'},\n  {'surface': 'نجح', 'POS': 'V', 'num': '', 'position': 'B'},\n  {'surface': 'رياضي', 'POS': 'NOUN', 'num': 'FP', 'position': 'B'},\n  {'surface': 'تقليص', 'POS': 'NOUN', 'num': 'MS', 'position': 'B'},\n  {'surface': 'فارق', 'POS': 'NOUN', 'num': 'MS', 'position': 'B'},\n  {'surface': 'ربع', 'POS': 'NOUN', 'num': 'MS', 'position': 'B'},\n  {'surface': 'ثاني', 'POS': 'ADJ', 'num': 'MS', 'position': 'B'},\n  {'surface': 'انتهى', 'POS': 'V', 'num': '', 'position': 'B'},\n  {'surface': 'شوط', 'POS': 'NOUN', 'num': 'MS', 'position': 'B'},\n  {'surface': 'أول', 'POS': 'ADJ', 'num': 'MS', 'position': 'B'},\n  {'surface': 'مصلح +ة', 'POS': 'NOUN+NSUFF', 'num': 'FS', 'position': 'B'},\n  {'surface': 'صاحب', 'POS': 'NOUN', 'num': 'MS', 'position': 'B'},\n  {'surface': 'أرض', 'POS': 'NOUN', 'num': 'FS', 'position': 'B'},\n  {'surface': 'نتيج +ة', 'POS': 'NOUN+NSUFF', 'num': 'FS', 'position': 'B'},\n  {'surface': '44-42', 'POS': 'PUNC', 'num': '', 'position': 'B'},\n  {'surface': 'نجح', 'POS': 'V', 'num': '', 'position': 'B'},\n  {'surface': 'رياضي', 'POS': 'NOUN', 'num': 'FP', 'position': 'B'},\n  {'surface': 'حسم', 'POS': 'NOUN', 'num': 'MS', 'position': 'B'},\n  {'surface': 'ربع', 'POS': 'NOUN', 'num': 'MS', 'position': 'B'},\n  {'surface': 'ثالث', 'POS': 'ADJ', 'num': 'MS', 'position': 'B'},\n  {'surface': 'مصلح +ة', 'POS': 'NOUN+NSUFF', 'num': 'FS', 'position': 'B'},\n  {'surface': '30-27', 'POS': 'PUNC', 'num': '', 'position': 'B'},\n  {'surface': 'شهد', 'POS': 'V', 'num': '', 'position': 'B'},\n  {'surface': 'ربع', 'POS': 'NOUN', 'num': 'MS', 'position': 'B'},\n  {'surface': 'رابع', 'POS': 'ADJ', 'num': 'MS', 'position': 'B'},\n  {'surface': 'إثار +ة', 'POS': 'NOUN+NSUFF', 'num': 'FS', 'position': 'B'},\n  {'surface': 'كبير', 'POS': 'ADJ', 'num': 'MS', 'position': 'B'},\n  {'surface': 'حيث', 'POS': 'PART', 'num': '', 'position': 'B'},\n  {'surface': 'وسع', 'POS': 'NOUN', 'num': 'MS', 'position': 'B'},\n  {'surface': 'رياضي', 'POS': 'NOUN', 'num': 'FP', 'position': 'B'},\n  {'surface': 'فارق', 'POS': 'V', 'num': '', 'position': 'B'},\n  {'surface': 'عاد', 'POS': 'V', 'num': '', 'position': 'B'},\n  {'surface': 'حكم +ة', 'POS': 'NOUN+NSUFF', 'num': 'FS', 'position': 'B'},\n  {'surface': 'أنهى', 'POS': 'V', 'num': '', 'position': 'B'},\n  {'surface': 'وقت', 'POS': 'NOUN', 'num': 'MS', 'position': 'B'},\n  {'surface': 'أصلي', 'POS': 'V', 'num': '', 'position': 'B'},\n  {'surface': 'مبارا +ة', 'POS': 'NOUN+NSUFF', 'num': 'FS', 'position': 'B'},\n  {'surface': 'نتيج +ة', 'POS': 'NOUN+NSUFF', 'num': 'FS', 'position': 'B'},\n  {'surface': 'تعادل', 'POS': 'NOUN', 'num': 'MS', 'position': 'B'},\n  {'surface': '95-95', 'POS': 'PUNC', 'num': '', 'position': 'B'},\n  {'surface': 'في', 'POS': 'PREP', 'num': '', 'position': 'B'},\n  {'surface': 'وقت', 'POS': 'NOUN', 'num': 'MS', 'position': 'B'},\n  {'surface': 'إضافي', 'POS': 'ADJ', 'num': 'MS', 'position': 'B'},\n  {'surface': 'فاق', 'POS': 'V', 'num': '', 'position': 'B'},\n  {'surface': 'لاعب', 'POS': 'NOUN', 'num': 'MS', 'position': 'B'},\n  {'surface': 'حكم +ة', 'POS': 'NOUN+NSUFF', 'num': 'FS', 'position': 'B'},\n  {'surface': 'سجل', 'POS': 'NOUN', 'num': 'MS', 'position': 'B'},\n  {'surface': '14', 'POS': 'NUM', 'num': 'MP', 'position': 'B'},\n  {'surface': 'نقط +ة', 'POS': 'NOUN+NSUFF', 'num': 'FS', 'position': 'B'},\n  {'surface': 'سل +ة', 'POS': 'NOUN+NSUFF', 'num': 'FS', 'position': 'B'},\n  {'surface': 'رياضي', 'POS': 'NOUN', 'num': 'FP', 'position': 'B'},\n  {'surface': 'مقابل', 'POS': 'NOUN', 'num': 'MS', 'position': 'B'},\n  {'surface': '11', 'POS': 'NUM', 'num': 'MP', 'position': 'B'},\n  {'surface': 'نقط +ة', 'POS': 'NOUN+NSUFF', 'num': 'FS', 'position': 'B'},\n  {'surface': 'أخير', 'POS': 'ADJ', 'num': 'MS', 'position': 'B'},\n  {'surface': 'انتهى', 'POS': 'V', 'num': '', 'position': 'B'},\n  {'surface': 'مبارا +ة', 'POS': 'NOUN+NSUFF', 'num': 'FS', 'position': 'B'},\n  {'surface': 'فوز', 'POS': 'NOUN', 'num': 'MS', 'position': 'B'},\n  {'surface': 'أخضر', 'POS': 'ADJ', 'num': 'MS', 'position': 'B'},\n  {'surface': 'نتيج +ة', 'POS': 'NOUN+NSUFF', 'num': 'FS', 'position': 'B'},\n  {'surface': '109-106', 'POS': 'PUNC', 'num': '', 'position': 'B'},\n  {'surface': 'علم', 'POS': 'V', 'num': '', 'position': 'B'},\n  {'surface': 'أن', 'POS': 'PART', 'num': '', 'position': 'B'},\n  {'surface': 'مبارا +ة', 'POS': 'NOUN+NSUFF', 'num': 'FS', 'position': 'B'},\n  {'surface': 'أول', 'POS': 'ADJ', 'num': 'MS', 'position': 'B'},\n  {'surface': 'انتهى', 'POS': 'V', 'num': '', 'position': 'B'},\n  {'surface': 'فوز', 'POS': 'NOUN', 'num': 'MS', 'position': 'B'},\n  {'surface': 'رياضي', 'POS': 'ADJ', 'num': 'FP', 'position': 'B'},\n  {'surface': 'فارق', 'POS': 'V', 'num': '', 'position': 'B'},\n  {'surface': '3', 'POS': 'NUM', 'num': 'MP', 'position': 'B'},\n  {'surface': 'نقط +ة', 'POS': 'NOUN+NSUFF', 'num': 'FS', 'position': 'B'},\n  {'surface': 'أيض', 'POS': 'ADV', 'num': '', 'position': 'B'},\n  {'surface': 'كان', 'POS': 'V', 'num': '', 'position': 'B'},\n  {'surface': 'كليانتوني', 'POS': 'NOUN', 'num': 'MS', 'position': 'B'},\n  {'surface': 'إيرل', 'POS': 'NOUN', 'num': 'MS', 'position': 'B'},\n  {'surface': 'أفضل', 'POS': 'ADJ', 'num': 'MS', 'position': 'B'},\n  {'surface': 'لاعب', 'POS': 'NOUN', 'num': 'MS', 'position': 'B'},\n  {'surface': 'صف', 'POS': 'NOUN', 'num': 'MS', 'position': 'B'},\n  {'surface': 'حكم +ة', 'POS': 'NOUN+NSUFF', 'num': 'FS', 'position': 'B'},\n  {'surface': 'تحقيق', 'POS': 'NOUN', 'num': 'MS', 'position': 'B'},\n  {'surface': 'ثنائي', 'POS': 'ADJ', 'num': 'MS', 'position': 'B'},\n  {'surface': 'مزدوج', 'POS': 'ADJ', 'num': 'MS', 'position': 'B'},\n  {'surface': 'دابل', 'POS': 'ADJ', 'num': 'MS', 'position': 'B'},\n  {'surface': 'دابل', 'POS': 'V', 'num': '', 'position': 'B'},\n  {'surface': 'تسجيل', 'POS': 'NOUN', 'num': 'MS', 'position': 'B'},\n  {'surface': '30', 'POS': 'NUM', 'num': 'MP', 'position': 'B'},\n  {'surface': 'نقط +ة', 'POS': 'NOUN+NSUFF', 'num': 'FS', 'position': 'B'},\n  {'surface': 'و', 'POS': 'CONJ', 'num': '', 'position': 'B'},\n  {'surface': '21', 'POS': 'NUM', 'num': 'MP', 'position': 'B'},\n  {'surface': 'متابع +ة', 'POS': 'NOUN+NSUFF', 'num': 'FS', 'position': 'B'},\n  {'surface': 'أضاف', 'POS': 'V', 'num': '', 'position': 'B'},\n  {'surface': 'أحمد', 'POS': 'NOUN', 'num': 'MS', 'position': 'B'},\n  {'surface': 'إبراهيم', 'POS': 'NOUN', 'num': 'MS', 'position': 'B'},\n  {'surface': '25', 'POS': 'NUM', 'num': 'MP', 'position': 'B'},\n  {'surface': 'نقط +ة', 'POS': 'NOUN+NSUFF', 'num': 'FS', 'position': 'B'},\n  {'surface': 'جوناثان', 'POS': 'NOUN', 'num': 'MS', 'position': 'B'},\n  {'surface': 'غيبسون', 'POS': 'NOUN', 'num': 'MS', 'position': 'B'},\n  {'surface': '24', 'POS': 'NUM', 'num': 'MP', 'position': 'B'},\n  {'surface': 'نقط +ة', 'POS': 'NOUN+NSUFF', 'num': 'FS', 'position': 'B'},\n  {'surface': 'من', 'POS': 'PREP', 'num': '', 'position': 'B'},\n  {'surface': 'ناحي +ة', 'POS': 'NOUN+NSUFF', 'num': 'FS', 'position': 'B'},\n  {'surface': 'رياضي', 'POS': 'ADJ', 'num': 'FP', 'position': 'B'},\n  {'surface': 'وائل', 'POS': 'NOUN', 'num': 'MS', 'position': 'B'},\n  {'surface': 'عرقجي', 'POS': 'NOUN', 'num': 'MS', 'position': 'B'},\n  {'surface': 'أفضل', 'POS': 'ADJ', 'num': 'MS', 'position': 'B'},\n  {'surface': 'إحراز', 'POS': 'NOUN', 'num': 'MS', 'position': 'B'},\n  {'surface': '28', 'POS': 'NUM', 'num': 'MP', 'position': 'B'},\n  {'surface': 'نقط +ة', 'POS': 'NOUN+NSUFF', 'num': 'FS', 'position': 'B'},\n  {'surface': '3', 'POS': 'NUM', 'num': 'MP', 'position': 'B'},\n  {'surface': 'متابع +ة', 'POS': 'NOUN+NSUFF', 'num': 'FS', 'position': 'B'},\n  {'surface': 'و', 'POS': 'CONJ', 'num': '', 'position': 'B'},\n  {'surface': '9', 'POS': 'NUM', 'num': 'MP', 'position': 'B'},\n  {'surface': 'تمرير', 'POS': 'NOUN', 'num': 'MS', 'position': 'B'},\n  {'surface': 'حاسم', 'POS': 'ADJ', 'num': 'MS', 'position': 'B'},\n  {'surface': 'حقق', 'POS': 'V', 'num': '', 'position': 'B'},\n  {'surface': 'دين', 'POS': 'NOUN', 'num': 'MS', 'position': 'B'},\n  {'surface': 'كيكانوفيتش', 'POS': 'NOUN', 'num': 'MS', 'position': 'B'},\n  {'surface': 'دابل', 'POS': 'ADJ', 'num': 'MS', 'position': 'B'},\n  {'surface': 'دابل', 'POS': 'V', 'num': '', 'position': 'B'},\n  {'surface': 'تسجيل', 'POS': 'NOUN', 'num': 'MS', 'position': 'B'},\n  {'surface': '15', 'POS': 'NUM', 'num': 'MP', 'position': 'B'},\n  {'surface': 'نقط +ة', 'POS': 'NOUN+NSUFF', 'num': 'FS', 'position': 'B'},\n  {'surface': '16', 'POS': 'NUM', 'num': 'MP', 'position': 'B'},\n  {'surface': 'متابع +ة', 'POS': 'NOUN+NSUFF', 'num': 'FS', 'position': 'B'},\n  {'surface': 'أقام', 'POS': 'V', 'num': '', 'position': 'B'},\n  {'surface': 'مبارا +ة', 'POS': 'NOUN+NSUFF', 'num': 'FS', 'position': 'B'},\n  {'surface': 'فاصل', 'POS': 'NOUN', 'num': 'MS', 'position': 'B'},\n  {'surface': 'فريق', 'POS': 'NOUN', 'num': 'MS', 'position': 'B'},\n  {'surface': 'ال', 'POS': 'DET', 'num': '', 'position': 'B'},\n  {'surface': '17', 'POS': 'NUM', 'num': 'MP', 'position': 'B'},\n  {'surface': 'نيسان', 'POS': 'NOUN', 'num': 'MS', 'position': 'B'},\n  {'surface': 'أبريل', 'POS': 'NOUN', 'num': 'MS', 'position': 'B'},\n  {'surface': 'جاري', 'POS': 'NOUN', 'num': 'MS', 'position': 'B'},\n  {'surface': 'مجمع', 'POS': 'NOUN', 'num': 'MS', 'position': 'B'},\n  {'surface': 'نوفل', 'POS': 'NOUN', 'num': 'MS', 'position': 'B'},\n  {'surface': 'معقل', 'POS': 'NOUN', 'num': 'MS', 'position': 'B'},\n  {'surface': 'نادي', 'POS': 'NOUN', 'num': 'MS', 'position': 'B'},\n  {'surface': 'رياضي', 'POS': 'NOUN', 'num': 'FP', 'position': 'B'},\n  {'surface': 'بطول +ة', 'POS': 'NOUN+NSUFF', 'num': 'FS', 'position': 'B'},\n  {'surface': 'وصل', 'POS': 'NOUN', 'num': 'MS', 'position': 'B'},\n  {'surface': 'اكتسح', 'POS': 'V', 'num': '', 'position': 'B'},\n  {'surface': 'مانشستر', 'POS': 'NOUN', 'num': 'MS', 'position': 'B'},\n  {'surface': 'سيتي', 'POS': 'NOUN', 'num': 'MS', 'position': 'B'},\n  {'surface': 'ضيف', 'POS': 'NOUN', 'num': 'MS', 'position': 'B'},\n  {'surface': 'أستون', 'POS': 'NOUN', 'num': 'MS', 'position': 'B'},\n  {'surface': 'فيلا', 'POS': 'NOUN', 'num': 'MS', 'position': 'B'},\n  {'surface': 'أربع', 'POS': 'NUM', 'num': 'MP', 'position': 'B'},\n  {'surface': 'هدف', 'POS': 'NOUN', 'num': 'MS', 'position': 'B'},\n  {'surface': 'مقابل', 'POS': 'NOUN', 'num': 'MS', 'position': 'B'},\n  {'surface': 'هدف', 'POS': 'NOUN', 'num': 'MS', 'position': 'B'},\n  {'surface': 'أربعاء', 'POS': 'ADJ', 'num': 'MS', 'position': 'B'},\n  {'surface': 'ضمن', 'POS': 'NOUN', 'num': 'MS', 'position': 'B'},\n  {'surface': 'منافس +ة', 'POS': 'NOUN+NSUFF', 'num': 'FS', 'position': 'B'},\n  {'surface': 'جول +ة', 'POS': 'NOUN+NSUFF', 'num': 'FS', 'position': 'B'},\n  {'surface': 'ال', 'POS': 'DET', 'num': '', 'position': 'B'},\n  {'surface': '31', 'POS': 'NUM', 'num': 'MP', 'position': 'B'},\n  {'surface': 'دوري', 'POS': 'NOUN', 'num': 'MS', 'position': 'B'},\n  {'surface': 'إنكليزي', 'POS': 'ADJ', 'num': 'MS', 'position': 'B'},\n  {'surface': 'ممتاز', 'POS': 'ADJ', 'num': 'MS', 'position': 'B'},\n  {'surface': 'بريميرليغ', 'POS': 'NOUN', 'num': 'MS', 'position': 'B'},\n  {'surface': 'افتتح', 'POS': 'V', 'num': '', 'position': 'B'},\n  {'surface': 'رودري', 'POS': 'NOUN', 'num': 'MS', 'position': 'B'},\n  {'surface': 'تسجيل', 'POS': 'NOUN', 'num': 'MS', 'position': 'B'},\n  {'surface': 'مانشستر', 'POS': 'NOUN', 'num': 'MS', 'position': 'B'},\n  {'surface': 'سيتي', 'POS': 'NOUN', 'num': 'MS', 'position': 'B'},\n  {'surface': 'دقيق +ة', 'POS': 'NOUN+NSUFF', 'num': 'FS', 'position': 'B'},\n  {'surface': 'ال', 'POS': 'DET', 'num': '', 'position': 'B'},\n  {'surface': '11', 'POS': 'NUM', 'num': 'MP', 'position': 'B'},\n  {'surface': 'أدرك', 'POS': 'V', 'num': '', 'position': 'B'},\n  {'surface': 'جون', 'POS': 'NOUN', 'num': 'MS', 'position': 'B'},\n  {'surface': 'دوران', 'POS': 'NOUN', 'num': 'MS', 'position': 'B'},\n  {'surface': 'تعادل', 'POS': 'NOUN', 'num': 'MS', 'position': 'B'},\n  {'surface': 'أستون', 'POS': 'NOUN', 'num': 'MS', 'position': 'B'},\n  {'surface': 'فيلا', 'POS': 'NOUN', 'num': 'MS', 'position': 'B'},\n  {'surface': 'دقيق +ة', 'POS': 'NOUN+NSUFF', 'num': 'FS', 'position': 'B'},\n  {'surface': 'ال', 'POS': 'DET', 'num': '', 'position': 'B'},\n  {'surface': '20', 'POS': 'NUM', 'num': 'MP', 'position': 'B'},\n  {'surface': 'أعاد', 'POS': 'V', 'num': '', 'position': 'B'},\n  {'surface': 'فيل', 'POS': 'NOUN', 'num': 'MS', 'position': 'B'},\n  {'surface': 'ود', 'POS': 'NOUN', 'num': 'MS', 'position': 'B'},\n  {'surface': 'تقدم', 'POS': 'V', 'num': '', 'position': 'B'},\n  {'surface': 'مجدد', 'POS': 'ADJ', 'num': 'MS', 'position': 'B'},\n  {'surface': 'صاحب', 'POS': 'NOUN', 'num': 'MS', 'position': 'B'},\n  {'surface': 'أرض', 'POS': 'NOUN', 'num': 'FS', 'position': 'B'},\n  {'surface': 'دقيق +ة', 'POS': 'NOUN+NSUFF', 'num': 'FS', 'position': 'B'},\n  {'surface': 'أول', 'POS': 'ADJ', 'num': 'MS', 'position': 'B'},\n  {'surface': 'وقت', 'POS': 'NOUN', 'num': 'MS', 'position': 'B'},\n  {'surface': 'بدل', 'POS': 'NOUN', 'num': 'MS', 'position': 'B'},\n  {'surface': 'ضائع', 'POS': 'ADJ', 'num': 'MS', 'position': 'B'},\n  {'surface': 'في', 'POS': 'PREP', 'num': '', 'position': 'B'},\n  {'surface': 'شوط', 'POS': 'NOUN', 'num': 'MS', 'position': 'B'},\n  {'surface': 'ثاني', 'POS': 'ADJ', 'num': 'MS', 'position': 'B'},\n  {'surface': 'عزز', 'POS': 'V', 'num': '', 'position': 'B'},\n  {'surface': 'ود', 'POS': 'NOUN', 'num': 'MS', 'position': 'B'},\n  {'surface': 'نتيج +ة', 'POS': 'NOUN+NSUFF', 'num': 'FS', 'position': 'B'},\n  {'surface': 'فريق', 'POS': 'NOUN', 'num': 'MS', 'position': 'B'},\n  {'surface': 'دقيق +ة', 'POS': 'NOUN+NSUFF', 'num': 'FS', 'position': 'B'},\n  {'surface': 'ال', 'POS': 'DET', 'num': '', 'position': 'B'},\n  {'surface': '62', 'POS': 'NUM', 'num': 'MP', 'position': 'B'},\n  {'surface': 'بعد', 'POS': 'NOUN', 'num': 'MS', 'position': 'B'},\n  {'surface': '7', 'POS': 'NUM', 'num': 'MP', 'position': 'B'},\n  {'surface': 'دقيق +ة', 'POS': 'NOUN+NSUFF', 'num': 'FS', 'position': 'B'},\n  {'surface': 'سجل', 'POS': 'NOUN', 'num': 'MS', 'position': 'B'},\n  {'surface': 'سجل', 'POS': 'NOUN', 'num': 'MS', 'position': 'B'},\n  {'surface': 'ود', 'POS': 'NOUN', 'num': 'MS', 'position': 'B'},\n  {'surface': 'هدف', 'POS': 'NOUN', 'num': 'MS', 'position': 'B'},\n  {'surface': 'شخصي', 'POS': 'ADJ', 'num': 'MS', 'position': 'B'},\n  {'surface': 'ثالث', 'POS': 'ADJ', 'num': 'MS', 'position': 'B'},\n  {'surface': 'محقق', 'POS': 'ADJ', 'num': 'MS', 'position': 'B'},\n  {'surface': 'هاتريك', 'POS': 'NOUN', 'num': 'MS', 'position': 'B'},\n  {'surface': 'رابع', 'POS': 'ADJ', 'num': 'MS', 'position': 'B'},\n  {'surface': 'فريق', 'POS': 'NOUN', 'num': 'MS', 'position': 'B'},\n  {'surface': 'انتهى', 'POS': 'V', 'num': '', 'position': 'B'},\n  {'surface': 'مبارا +ة', 'POS': 'NOUN+NSUFF', 'num': 'FS', 'position': 'B'},\n  {'surface': 'نتيج +ة', 'POS': 'NOUN+NSUFF', 'num': 'FS', 'position': 'B'},\n  {'surface': '4-1', 'POS': 'PUNC', 'num': '', 'position': 'B'},\n  {'surface': 'رفع', 'POS': 'V', 'num': '', 'position': 'B'},\n  {'surface': 'مانشستر', 'POS': 'NOUN', 'num': 'MS', 'position': 'B'},\n  {'surface': 'سيتي', 'POS': 'NOUN', 'num': 'MS', 'position': 'B'},\n  {'surface': 'رصيد', 'POS': 'NOUN', 'num': 'MS', 'position': 'B'},\n  {'surface': 'هذا', 'POS': 'PRON', 'num': '', 'position': 'B'},\n  {'surface': 'فوز', 'POS': 'NOUN', 'num': 'MS', 'position': 'B'},\n  {'surface': '67', 'POS': 'NUM', 'num': 'MP', 'position': 'B'},\n  {'surface': 'نقط +ة', 'POS': 'NOUN+NSUFF', 'num': 'FS', 'position': 'B'},\n  {'surface': 'مركز', 'POS': 'NOUN', 'num': 'MS', 'position': 'B'},\n  {'surface': 'ثالث', 'POS': 'ADJ', 'num': 'MS', 'position': 'B'},\n  {'surface': 'تجمد', 'POS': 'V', 'num': '', 'position': 'B'},\n  {'surface': 'رصيد', 'POS': 'NOUN', 'num': 'MS', 'position': 'B'},\n  {'surface': 'أستون', 'POS': 'NOUN', 'num': 'MS', 'position': 'B'},\n  {'surface': 'فيلا', 'POS': 'NOUN', 'num': 'MS', 'position': 'B'},\n  {'surface': '59', 'POS': 'NUM', 'num': 'MP', 'position': 'B'},\n  {'surface': 'نقط +ة', 'POS': 'NOUN+NSUFF', 'num': 'FS', 'position': 'B'},\n  {'surface': 'مركز', 'POS': 'NOUN', 'num': 'MS', 'position': 'B'},\n  {'surface': 'رابع', 'POS': 'ADJ', 'num': 'MS', 'position': 'B'},\n  {'surface': 'فاز', 'POS': 'V', 'num': '', 'position': 'B'},\n  {'surface': 'فيورنتينا', 'POS': 'NOUN', 'num': 'MS', 'position': 'B'},\n  {'surface': 'ضيف', 'POS': 'NOUN', 'num': 'MS', 'position': 'B'},\n  {'surface': 'أتالانتا', 'POS': 'NOUN', 'num': 'MS', 'position': 'B'},\n  {'surface': 'هدف', 'POS': 'NOUN', 'num': 'MS', 'position': 'B'},\n  {'surface': 'مقابل', 'POS': 'NOUN', 'num': 'MS', 'position': 'B'},\n  {'surface': 'لاشيء', 'POS': 'NOUN', 'num': 'MP', 'position': 'B'},\n  {'surface': 'أربعاء', 'POS': 'NOUN', 'num': 'MS', 'position': 'B'},\n  {'surface': 'ذهاب', 'POS': 'NOUN', 'num': 'MS', 'position': 'B'},\n  {'surface': 'دور', 'POS': 'NOUN', 'num': 'MS', 'position': 'B'},\n  {'surface': 'نصف', 'POS': 'NOUN', 'num': 'MS', 'position': 'B'},\n  {'surface': 'نهائي', 'POS': 'NOUN', 'num': 'MS', 'position': 'B'},\n  {'surface': 'بطول +ة', 'POS': 'NOUN+NSUFF', 'num': 'FS', 'position': 'B'},\n  {'surface': 'كأس', 'POS': 'NOUN', 'num': 'MS', 'position': 'B'},\n  {'surface': 'إيطاليا', 'POS': 'NOUN', 'num': 'MS', 'position': 'B'},\n  {'surface': 'أدان', 'POS': 'V', 'num': '', 'position': 'B'},\n  {'surface': 'فيورنتينا', 'POS': 'NOUN', 'num': 'MS', 'position': 'B'},\n  {'surface': 'هذا', 'POS': 'PRON', 'num': '', 'position': 'B'},\n  {'surface': 'فوز', 'POS': 'NOUN', 'num': 'MS', 'position': 'B'},\n  {'surface': 'لاعب', 'POS': 'NOUN', 'num': 'MS', 'position': 'B'},\n  {'surface': 'رولاندو', 'POS': 'NOUN', 'num': 'MS', 'position': 'B'},\n  {'surface': 'ماندراغورا', 'POS': 'NOUN', 'num': 'MS', 'position': 'B'},\n  {'surface': 'سجل', 'POS': 'V', 'num': '', 'position': 'B'},\n  {'surface': 'هدف', 'POS': 'NOUN', 'num': 'MS', 'position': 'B'},\n  {'surface': 'مبارا +ة', 'POS': 'NOUN+NSUFF', 'num': 'FS', 'position': 'B'},\n  {'surface': 'وحيد', 'POS': 'NOUN', 'num': 'MS', 'position': 'B'},\n  {'surface': 'دقيق +ة', 'POS': 'NOUN+NSUFF', 'num': 'FS', 'position': 'B'},\n  {'surface': 'ال', 'POS': 'DET', 'num': '', 'position': 'B'},\n  {'surface': '31', 'POS': 'NUM', 'num': 'MP', 'position': 'B'},\n  {'surface': 'تسديد +ة', 'POS': 'NOUN+NSUFF', 'num': 'FS', 'position': 'B'},\n  {'surface': 'صاروخي', 'POS': 'ADJ', 'num': 'MS', 'position': 'B'},\n  {'surface': 'خارج', 'POS': 'ADJ', 'num': 'MS', 'position': 'B'},\n  {'surface': 'منطق +ة', 'POS': 'NOUN+NSUFF', 'num': 'FS', 'position': 'B'},\n  {'surface': 'جزاء', 'POS': 'NOUN', 'num': 'MS', 'position': 'B'},\n  {'surface': 'أقام', 'POS': 'V', 'num': '', 'position': 'B'},\n  {'surface': 'مبارا +ة', 'POS': 'NOUN+NSUFF', 'num': 'FS', 'position': 'B'},\n  {'surface': 'إياب', 'POS': 'NOUN', 'num': 'MS', 'position': 'B'},\n  {'surface': 'فريق', 'POS': 'NOUN', 'num': 'MS', 'position': 'B'},\n  {'surface': 'ال', 'POS': 'DET', 'num': '', 'position': 'B'},\n  {'surface': '24', 'POS': 'NUM', 'num': 'MP', 'position': 'B'},\n  {'surface': 'نيسان', 'POS': 'NOUN', 'num': 'MS', 'position': 'B'},\n  {'surface': 'أبريل', 'POS': 'NOUN', 'num': 'MS', 'position': 'B'},\n  {'surface': 'جاري', 'POS': 'NOUN', 'num': 'MS', 'position': 'B'},\n  {'surface': 'في', 'POS': 'PREP', 'num': '', 'position': 'B'},\n  {'surface': 'نصف', 'POS': 'NOUN', 'num': 'MS', 'position': 'B'},\n  {'surface': 'نهائي', 'POS': 'NOUN', 'num': 'MS', 'position': 'B'},\n  {'surface': 'آخر', 'POS': 'ADJ', 'num': 'MS', 'position': 'B'},\n  {'surface': 'فاز', 'POS': 'V', 'num': '', 'position': 'B'},\n  {'surface': 'يوفنتوس', 'POS': 'NOUN', 'num': 'MS', 'position': 'B'},\n  {'surface': 'لاتسيو', 'POS': 'NOUN', 'num': 'MS', 'position': 'B'},\n  {'surface': 'هدف', 'POS': 'NOUN', 'num': 'MS', 'position': 'B'},\n  {'surface': 'مقابل', 'POS': 'NOUN', 'num': 'MS', 'position': 'B'},\n  {'surface': 'شيء', 'POS': 'NOUN', 'num': 'MS', 'position': 'B'},\n  {'surface': 'ثلاثاء', 'POS': 'NOUN', 'num': 'MS', 'position': 'B'},\n  {'surface': 'ملعب', 'POS': 'NOUN', 'num': 'MS', 'position': 'B'},\n  {'surface': 'أليانز', 'POS': 'NOUN', 'num': 'MS', 'position': 'B'},\n  {'surface': 'ستاديوم', 'POS': 'NOUN', 'num': 'MS', 'position': 'B'},\n  {'surface': 'معقل', 'POS': 'NOUN', 'num': 'MS', 'position': 'B'},\n  {'surface': 'بيانكونيري', 'POS': 'NOUN', 'num': 'MS', 'position': 'B'},\n  {'surface': 'فاز', 'POS': 'V', 'num': '', 'position': 'B'},\n  {'surface': 'أرسنال', 'POS': 'NOUN', 'num': 'MS', 'position': 'B'},\n  {'surface': 'ضيف', 'POS': 'NOUN', 'num': 'MS', 'position': 'B'},\n  {'surface': 'لوت', 'POS': 'NOUN', 'num': 'MS', 'position': 'B'},\n  {'surface': 'تاون', 'POS': 'NOUN', 'num': 'MS', 'position': 'B'},\n  {'surface': 'هدف', 'POS': 'NOUN', 'num': 'MS', 'position': 'B'},\n  {'surface': 'مقابل', 'POS': 'NOUN', 'num': 'MS', 'position': 'B'},\n  {'surface': 'لاشيء', 'POS': 'NOUN', 'num': 'MP', 'position': 'B'},\n  {'surface': 'أربعاء', 'POS': 'ADJ', 'num': 'MS', 'position': 'B'},\n  {'surface': 'ضمن', 'POS': 'NOUN', 'num': 'MS', 'position': 'B'},\n  {'surface': 'منافس +ة', 'POS': 'NOUN+NSUFF', 'num': 'FS', 'position': 'B'},\n  {'surface': 'جول +ة', 'POS': 'NOUN+NSUFF', 'num': 'FS', 'position': 'B'},\n  {'surface': 'ال', 'POS': 'DET', 'num': '', 'position': 'B'},\n  {'surface': '31', 'POS': 'NUM', 'num': 'MP', 'position': 'B'},\n  {'surface': 'دوري', 'POS': 'NOUN', 'num': 'MS', 'position': 'B'},\n  {'surface': 'إنكليزي', 'POS': 'ADJ', 'num': 'MS', 'position': 'B'},\n  {'surface': 'ممتاز', 'POS': 'ADJ', 'num': 'MS', 'position': 'B'},\n  {'surface': 'بريميرليغ', 'POS': 'NOUN', 'num': 'MS', 'position': 'B'},\n  {'surface': 'سجل', 'POS': 'NOUN', 'num': 'MS', 'position': 'B'},\n  {'surface': 'هدف', 'POS': 'NOUN', 'num': 'MS', 'position': 'B'},\n  {'surface': 'أرسنال', 'POS': 'NOUN', 'num': 'MS', 'position': 'B'},\n  {'surface': 'مارتن', 'POS': 'NOUN', 'num': 'MS', 'position': 'B'},\n  {'surface': 'أوديغارد', 'POS': 'NOUN', 'num': 'MS', 'position': 'B'},\n  {'surface': 'دقيق +ة', 'POS': 'NOUN+NSUFF', 'num': 'FS', 'position': 'B'},\n  {'surface': 'ال', 'POS': 'DET', 'num': '', 'position': 'B'},\n  {'surface': '24', 'POS': 'NUM', 'num': 'MP', 'position': 'B'},\n  {'surface': 'دايكي', 'POS': 'NOUN', 'num': 'MS', 'position': 'B'},\n  {'surface': 'هاشيوكا', 'POS': 'NOUN', 'num': 'MS', 'position': 'B'},\n  {'surface': 'دقيق +ة', 'POS': 'NOUN+NSUFF', 'num': 'FS', 'position': 'B'},\n  {'surface': 'ال', 'POS': 'DET', 'num': '', 'position': 'B'},\n  {'surface': '44', 'POS': 'NUM', 'num': 'MP', 'position': 'B'},\n  {'surface': 'خطأ', 'POS': 'NOUN', 'num': 'MS', 'position': 'B'},\n  {'surface': 'مرمى', 'POS': 'NOUN', 'num': 'MS', 'position': 'B'},\n  {'surface': 'رفع', 'POS': 'NOUN', 'num': 'MS', 'position': 'B'},\n  {'surface': 'أرسنال', 'POS': 'NOUN', 'num': 'MS', 'position': 'B'},\n  {'surface': 'رصيد', 'POS': 'NOUN', 'num': 'MS', 'position': 'B'},\n  {'surface': 'هذا', 'POS': 'PRON', 'num': '', 'position': 'B'},\n  {'surface': 'فوز', 'POS': 'NOUN', 'num': 'MS', 'position': 'B'},\n  {'surface': '68', 'POS': 'NUM', 'num': 'MP', 'position': 'B'},\n  {'surface': 'نقط +ة', 'POS': 'NOUN+NSUFF', 'num': 'FS', 'position': 'B'},\n  {'surface': 'صدار +ة', 'POS': 'NOUN+NSUFF', 'num': 'FS', 'position': 'B'},\n  {'surface': 'ترتيب', 'POS': 'NOUN', 'num': 'MS', 'position': 'B'},\n  {'surface': 'موقت', 'POS': 'ADJ', 'num': 'MS', 'position': 'B'},\n  {'surface': 'انتظار', 'POS': 'NOUN', 'num': 'MP', 'position': 'B'},\n  {'surface': 'مبارا +ة', 'POS': 'NOUN+NSUFF', 'num': 'FS', 'position': 'B'},\n  {'surface': 'ليفربول', 'POS': 'NOUN', 'num': 'MS', 'position': 'B'},\n  {'surface': 'شيفيلد', 'POS': 'NOUN', 'num': 'MS', 'position': 'B'},\n  {'surface': 'يونايتد', 'POS': 'NOUN', 'num': 'MS', 'position': 'B'},\n  {'surface': 'خميس', 'POS': 'NOUN', 'num': 'MS', 'position': 'B'},\n  {'surface': 'بقي', 'POS': 'V', 'num': '', 'position': 'B'},\n  {'surface': 'لوت', 'POS': 'NOUN', 'num': 'MS', 'position': 'B'},\n  {'surface': 'تاون', 'POS': 'NOUN', 'num': 'MS', 'position': 'B'},\n  {'surface': 'مركز', 'POS': 'NOUN', 'num': 'MS', 'position': 'B'},\n  {'surface': 'ال', 'POS': 'DET', 'num': '', 'position': 'B'},\n  {'surface': '18', 'POS': 'NUM', 'num': 'MP', 'position': 'B'},\n  {'surface': 'رصيد', 'POS': 'NOUN', 'num': 'MS', 'position': 'B'},\n  {'surface': '22', 'POS': 'NUM', 'num': 'MP', 'position': 'B'},\n  {'surface': 'نقط +ة', 'POS': 'NOUN+NSUFF', 'num': 'FS', 'position': 'B'},\n  {'surface': 'في', 'POS': 'PREP', 'num': '', 'position': 'B'},\n  {'surface': 'مبارا +ة', 'POS': 'NOUN+NSUFF', 'num': 'FS', 'position': 'B'},\n  {'surface': 'آخر', 'POS': 'ADJ', 'num': 'MS', 'position': 'B'},\n  {'surface': 'ضمن', 'POS': 'NOUN', 'num': 'MS', 'position': 'B'},\n  {'surface': 'جول +ة', 'POS': 'NOUN+NSUFF', 'num': 'FS', 'position': 'B'},\n  {'surface': 'نفس', 'POS': 'NOUN', 'num': 'MS', 'position': 'B'},\n  {'surface': 'عادل', 'POS': 'ADJ', 'num': 'MS', 'position': 'B'},\n  {'surface': 'برينتفورد', 'POS': 'NOUN', 'num': 'MS', 'position': 'B'},\n  {'surface': 'ضيف', 'POS': 'NOUN', 'num': 'MS', 'position': 'B'},\n  {'surface': 'برايتون', 'POS': 'NOUN', 'num': 'MS', 'position': 'B'},\n  {'surface': 'ليتاقسم', 'POS': 'NOUN', 'num': 'MS', 'position': 'B'},\n  {'surface': 'فريق', 'POS': 'NOUN', 'num': 'MS', 'position': 'B'},\n  {'surface': 'نقط +ة', 'POS': 'NOUN+NSUFF', 'num': 'FS', 'position': 'B'},\n  {'surface': 'مبارا +ة', 'POS': 'NOUN+NSUFF', 'num': 'FS', 'position': 'B'},\n  {'surface': 'نقط +ة', 'POS': 'NOUN+NSUFF', 'num': 'FS', 'position': 'B'},\n  {'surface': 'كل', 'POS': 'NOUN', 'num': 'MS', 'position': 'B'},\n  {'surface': 'من', 'POS': 'PART', 'num': '', 'position': 'B'},\n  {'surface': 'أطلق', 'POS': 'V', 'num': '', 'position': 'B'},\n  {'surface': 'حرس', 'POS': 'NOUN', 'num': 'MS', 'position': 'B'},\n  {'surface': 'مدني', 'POS': 'NOUN', 'num': 'MS', 'position': 'B'},\n  {'surface': 'سراح', 'POS': 'NOUN', 'num': 'MS', 'position': 'B'},\n  {'surface': 'رئيس', 'POS': 'NOUN', 'num': 'MS', 'position': 'B'},\n  {'surface': 'اتحاد', 'POS': 'NOUN', 'num': 'MS', 'position': 'B'},\n  {'surface': 'إسباني', 'POS': 'NOUN', 'num': 'FP', 'position': 'B'},\n  {'surface': 'سابق', 'POS': 'ADJ', 'num': 'MS', 'position': 'B'},\n  {'surface': 'لويس', 'POS': 'NOUN', 'num': 'MS', 'position': 'B'},\n  {'surface': 'روبياليس', 'POS': 'NOUN', 'num': 'MS', 'position': 'B'},\n  {'surface': 'فتر +ة', 'POS': 'NOUN+NSUFF', 'num': 'FS', 'position': 'B'},\n  {'surface': 'وجيز', 'POS': 'NOUN', 'num': 'MS', 'position': 'B'},\n  {'surface': 'اعتقال', 'POS': 'NOUN', 'num': 'MS', 'position': 'B'},\n  {'surface': 'وصول', 'POS': 'NOUN', 'num': 'MS', 'position': 'B'},\n  {'surface': 'مطار', 'POS': 'NOUN', 'num': 'MS', 'position': 'B'},\n  {'surface': 'أدولفو', 'POS': 'NOUN', 'num': 'MS', 'position': 'B'},\n  {'surface': 'سواريز', 'POS': 'NOUN', 'num': 'MS', 'position': 'B'},\n  {'surface': 'مدريد', 'POS': 'NOUN', 'num': 'MS', 'position': 'B'},\n  {'surface': 'باراخاس', 'POS': 'NOUN', 'num': 'MS', 'position': 'B'},\n  {'surface': 'أكد', 'POS': 'V', 'num': '', 'position': 'B'},\n  {'surface': 'حرس', 'POS': 'NOUN', 'num': 'MS', 'position': 'B'},\n  {'surface': 'مدني', 'POS': 'ADJ', 'num': 'MS', 'position': 'B'},\n  {'surface': 'أن', 'POS': 'PART', 'num': '', 'position': 'B'},\n  {'surface': 'إطلاق', 'POS': 'NOUN', 'num': 'MS', 'position': 'B'},\n  {'surface': 'سراح', 'POS': 'NOUN', 'num': 'MS', 'position': 'B'},\n  {'surface': 'روبياليس', 'POS': 'NOUN', 'num': 'MS', 'position': 'B'},\n  {'surface': 'جاء', 'POS': 'V', 'num': '', 'position': 'B'},\n  {'surface': 'إدلاء', 'POS': 'NOUN', 'num': 'MS', 'position': 'B'},\n  {'surface': 'شهاد +ة', 'POS': 'NOUN+NSUFF', 'num': 'FS', 'position': 'B'},\n  {'surface': 'وحد +ة', 'POS': 'NOUN+NSUFF', 'num': 'FS', 'position': 'B'},\n  {'surface': 'حرس', 'POS': 'NOUN', 'num': 'MS', 'position': 'B'},\n  {'surface': 'مبنى', 'POS': 'NOUN', 'num': 'MS', 'position': 'B'},\n  {'surface': 'رقم', 'POS': 'NOUN', 'num': 'MS', 'position': 'B'},\n  {'surface': '4', 'POS': 'NUM', 'num': 'MP', 'position': 'B'},\n  {'surface': 'مطار', 'POS': 'NOUN', 'num': 'MS', 'position': 'B'},\n  {'surface': 'انتظر', 'POS': 'V', 'num': '', 'position': 'B'},\n  {'surface': 'استدعاء', 'POS': 'NOUN', 'num': 'MS', 'position': 'B'},\n  {'surface': 'مثول', 'POS': 'NOUN', 'num': 'MS', 'position': 'B'},\n  {'surface': 'محكم +ة', 'POS': 'NOUN+NSUFF', 'num': 'FS', 'position': 'B'},\n  {'surface': 'اتهم', 'POS': 'V', 'num': '', 'position': 'B'},\n  {'surface': 'روبياليس', 'POS': 'NOUN', 'num': 'MS', 'position': 'B'},\n  {'surface': 'قضي +ة', 'POS': 'NOUN+NSUFF', 'num': 'FS', 'position': 'B'},\n  {'surface': 'عقد', 'POS': 'NOUN', 'num': 'MS', 'position': 'B'},\n  {'surface': 'قانوني', 'POS': 'ADJ', 'num': 'MS', 'position': 'B'},\n  {'surface': 'خلال', 'POS': 'NOUN', 'num': 'MS', 'position': 'B'},\n  {'surface': 'فتر +ة', 'POS': 'NOUN+NSUFF', 'num': 'FS', 'position': 'B'},\n  {'surface': 'رئاس +ة', 'POS': 'NOUN+NSUFF', 'num': 'FS', 'position': 'B'},\n  {'surface': 'اتحاد', 'POS': 'NOUN', 'num': 'MS', 'position': 'B'},\n  {'surface': 'إسباني', 'POS': 'NOUN', 'num': 'FP', 'position': 'B'},\n  {'surface': 'كان', 'POS': 'V', 'num': '', 'position': 'B'},\n  {'surface': 'روبياليس', 'POS': 'NOUN', 'num': 'MS', 'position': 'B'},\n  {'surface': 'سافر', 'POS': 'ADJ', 'num': 'MS', 'position': 'B'},\n  {'surface': 'دومينيكان', 'POS': 'NOUN', 'num': 'MS', 'position': 'B'},\n  {'surface': 'ربط', 'POS': 'NOUN', 'num': 'MS', 'position': 'B'},\n  {'surface': 'اتفاقي +ة', 'POS': 'NOUN+NSUFF', 'num': 'FS', 'position': 'B'},\n  {'surface': 'إسبانيا', 'POS': 'NOUN', 'num': 'MS', 'position': 'B'},\n  {'surface': 'شأن', 'POS': 'NOUN', 'num': 'MS', 'position': 'B'},\n  {'surface': 'تسليم', 'POS': 'NOUN', 'num': 'MS', 'position': 'B'},\n  {'surface': 'مطلوب', 'POS': 'NOUN', 'num': 'MS', 'position': 'B'},\n  {'surface': 'قضائي', 'POS': 'ADJ', 'num': 'MS', 'position': 'B'},\n  {'surface': 'قال', 'POS': 'V', 'num': '', 'position': 'B'},\n  {'surface': 'روبياليس', 'POS': 'NOUN', 'num': 'MS', 'position': 'B'},\n  {'surface': 'حوار', 'POS': 'NOUN', 'num': 'MS', 'position': 'B'},\n  {'surface': 'قنا +ة', 'POS': 'NOUN+NSUFF', 'num': 'FS', 'position': 'B'},\n  {'surface': 'La', 'POS': 'FOREIGN', 'num': '', 'position': 'B'},\n  {'surface': 'Sexta', 'POS': 'FOREIGN', 'num': '', 'position': 'B'},\n  {'surface': 'إسباني', 'POS': 'NOUN', 'num': 'FP', 'position': 'B'},\n  {'surface': 'نشر', 'POS': 'NOUN', 'num': 'MS', 'position': 'B'},\n  {'surface': 'صحيف +ة', 'POS': 'NOUN+NSUFF', 'num': 'FS', 'position': 'B'},\n  {'surface': 'مارك', 'POS': 'NOUN', 'num': 'MS', 'position': 'B'},\n  {'surface': 'مقتطف', 'POS': 'NOUN', 'num': 'MS', 'position': 'B'},\n  {'surface': 'قال', 'POS': 'V', 'num': '', 'position': 'B'},\n  {'surface': 'صحيح', 'POS': 'PART', 'num': '', 'position': 'B'},\n  {'surface': 'أن', 'POS': 'PART', 'num': '', 'position': 'B'},\n  {'surface': 'حصل', 'POS': 'V', 'num': '', 'position': 'B'},\n  {'surface': 'رشى', 'POS': 'NOUN', 'num': 'MS', 'position': 'B'},\n  {'surface': 'خلال', 'POS': 'NOUN', 'num': 'MS', 'position': 'B'},\n  {'surface': 'شق +ة', 'POS': 'NOUN+NSUFF', 'num': 'FS', 'position': 'B'},\n  {'surface': 'دومينيكان', 'POS': 'NOUN', 'num': 'MS', 'position': 'B'},\n  {'surface': 'أضاف', 'POS': 'V', 'num': '', 'position': 'B'},\n  {'surface': 'صحيح', 'POS': 'ADJ', 'num': 'MS', 'position': 'B'},\n  {'surface': 'أن', 'POS': 'PART', 'num': '', 'position': 'B'},\n  {'surface': 'حقق', 'POS': 'V', 'num': '', 'position': 'B'},\n  {'surface': 'مكسب', 'POS': 'NOUN', 'num': 'MS', 'position': 'B'},\n  {'surface': 'كبير', 'POS': 'ADJ', 'num': 'MS', 'position': 'B'},\n  {'surface': 'كاب', 'POS': 'NOUN', 'num': 'MS', 'position': 'B'},\n  {'surface': 'فيردي', 'POS': 'NOUN', 'num': 'MS', 'position': 'B'},\n  {'surface': 'غير', 'POS': 'NOUN', 'num': 'MS', 'position': 'B'},\n  {'surface': 'صحيح', 'POS': 'ADJ', 'num': 'MS', 'position': 'B'},\n  {'surface': 'أن', 'POS': 'PART', 'num': '', 'position': 'B'},\n  {'surface': 'ملك', 'POS': 'NOUN', 'num': 'MS', 'position': 'B'},\n  {'surface': 'أرض', 'POS': 'NOUN', 'num': 'FS', 'position': 'B'},\n  {'surface': 'بناء', 'POS': 'NOUN', 'num': 'MS', 'position': 'B'},\n  {'surface': 'فندق', 'POS': 'NOUN', 'num': 'MS', 'position': 'B'},\n  {'surface': 'سعودي +ة', 'POS': 'ADJ+NSUFF', 'num': 'FP', 'position': 'B'},\n  {'surface': 'نظير', 'POS': 'NOUN', 'num': 'MS', 'position': 'B'},\n  {'surface': 'إقام +ة', 'POS': 'NOUN+NSUFF', 'num': 'FS', 'position': 'B'},\n  {'surface': 'سوبر', 'POS': 'NOUN', 'num': 'MS', 'position': 'B'},\n  {'surface': 'إسباني', 'POS': 'NOUN', 'num': 'FP', 'position': 'B'},\n  {'surface': 'رياض', 'POS': 'NOUN', 'num': 'FP', 'position': 'B'},\n  {'surface': 'واصل', 'POS': 'NOUN', 'num': 'MS', 'position': 'B'},\n  {'surface': 'نفي', 'POS': 'NOUN', 'num': 'MS', 'position': 'B'},\n  {'surface': 'عديد', 'POS': 'NOUN', 'num': 'MS', 'position': 'B'},\n  {'surface': 'شائع', 'POS': 'NOUN', 'num': 'MS', 'position': 'B'},\n  {'surface': 'مرتبط', 'POS': 'ADJ', 'num': 'MS', 'position': 'B'},\n  {'surface': 'حول', 'POS': 'NOUN', 'num': 'MS', 'position': 'B'},\n  {'surface': 'مال', 'POS': 'NOUN', 'num': 'MS', 'position': 'B'},\n  {'surface': 'دومينيكان', 'POS': 'NOUN', 'num': 'MS', 'position': 'B'},\n  {'surface': 'ليس', 'POS': 'PART', 'num': '', 'position': 'B'},\n  {'surface': 'لدى', 'POS': 'NOUN', 'num': 'MS', 'position': 'B'},\n  {'surface': 'فريق', 'POS': 'NOUN', 'num': 'MS', 'position': 'B'},\n  {'surface': 'بيسبول', 'POS': 'NOUN', 'num': 'MS', 'position': 'B'},\n  {'surface': 'هنا', 'POS': 'ADV', 'num': '', 'position': 'B'},\n  {'surface': 'علاق +ة', 'POS': 'NOUN+NSUFF', 'num': 'FS', 'position': 'B'},\n  {'surface': 'ادعاء', 'POS': 'NOUN', 'num': 'MP', 'position': 'B'},\n  {'surface': 'قدم', 'POS': 'NOUN', 'num': 'MS', 'position': 'B'},\n  {'surface': 'وسيل +ة', 'POS': 'NOUN+NSUFF', 'num': 'FS', 'position': 'B'},\n  {'surface': 'إعلام', 'POS': 'NOUN', 'num': 'MS', 'position': 'B'},\n  {'surface': 'مال', 'POS': 'NOUN', 'num': 'MS', 'position': 'B'},\n  {'surface': 'موجود', 'POS': 'ADJ', 'num': 'MS', 'position': 'B'},\n  {'surface': 'حساب', 'POS': 'NOUN', 'num': 'MS', 'position': 'B'},\n  {'surface': 'مال', 'POS': 'NOUN', 'num': 'MS', 'position': 'B'},\n  {'surface': 'حساب', 'POS': 'NOUN', 'num': 'MS', 'position': 'B'},\n  {'surface': 'نتاج', 'POS': 'NOUN', 'num': 'MS', 'position': 'B'},\n  {'surface': 'عمل', 'POS': 'NOUN', 'num': 'MS', 'position': 'B'},\n  {'surface': 'مدخر', 'POS': 'ADJ', 'num': 'MS', 'position': 'B'},\n  {'surface': 'في', 'POS': 'PREP', 'num': '', 'position': 'B'},\n  {'surface': 'تعلق', 'POS': 'NOUN', 'num': 'MS', 'position': 'B'},\n  {'surface': 'رحل +ة', 'POS': 'NOUN+NSUFF', 'num': 'FS', 'position': 'B'},\n  {'surface': 'عديد', 'POS': 'NOUN', 'num': 'MS', 'position': 'B'},\n  {'surface': 'خلال', 'POS': 'NOUN', 'num': 'MS', 'position': 'B'},\n  {'surface': 'فتر +ة', 'POS': 'NOUN+NSUFF', 'num': 'FS', 'position': 'B'},\n  {'surface': 'رئاس +ة', 'POS': 'NOUN+NSUFF', 'num': 'FS', 'position': 'B'},\n  {'surface': 'اتحاد', 'POS': 'NOUN', 'num': 'MS', 'position': 'B'},\n  {'surface': 'إسباني', 'POS': 'NOUN', 'num': 'FP', 'position': 'B'},\n  {'surface': 'عنى', 'POS': 'V', 'num': '', 'position': 'B'},\n  {'surface': 'ذلك', 'POS': 'PRON', 'num': '', 'position': 'B'},\n  {'surface': 'و+', 'POS': 'CONJ', 'num': '', 'position': 'B'},\n  {'surface': 'جب', 'POS': 'NOUN', 'num': 'MS', 'position': 'I'},\n  {'surface': 'رئيس', 'POS': 'NOUN', 'num': 'MS', 'position': 'B'},\n  {'surface': 'عاش', 'POS': 'V', 'num': '', 'position': 'B'},\n  {'surface': 'فقاع +ة', 'POS': 'NOUN+NSUFF', 'num': 'FS', 'position': 'B'},\n  {'surface': 'بعيد', 'POS': 'ADJ', 'num': 'MS', 'position': 'B'},\n  {'surface': 'مجتمع', 'POS': 'NOUN', 'num': 'MS', 'position': 'B'},\n  {'surface': 'ذكر', 'POS': 'V', 'num': '', 'position': 'B'},\n  {'surface': 'ادعاء', 'POS': 'NOUN', 'num': 'MP', 'position': 'B'},\n  {'surface': 'عام', 'POS': 'ADJ', 'num': 'MS', 'position': 'B'},\n  {'surface': 'طالب', 'POS': 'NOUN', 'num': 'MS', 'position': 'B'},\n  {'surface': 'سجن', 'POS': 'NOUN', 'num': 'MS', 'position': 'B'},\n  {'surface': 'روبياليس', 'POS': 'NOUN', 'num': 'MS', 'position': 'B'},\n  {'surface': 'مد +ة', 'POS': 'NOUN+NSUFF', 'num': 'FS', 'position': 'B'},\n  {'surface': 'عام', 'POS': 'NOUN', 'num': 'MS', 'position': 'B'},\n  {'surface': 'نصف', 'POS': 'NOUN', 'num': 'MS', 'position': 'B'},\n  {'surface': 'عام', 'POS': 'NOUN', 'num': 'MS', 'position': 'B'},\n  {'surface': 'سبب', 'POS': 'NOUN', 'num': 'MS', 'position': 'B'},\n  {'surface': 'قبلة', 'POS': 'FOREIGN', 'num': '', 'position': 'B'},\n  {'surface': 'هيرموسو', 'POS': 'NOUN', 'num': 'MS', 'position': 'B'},\n  {'surface': 'بين', 'POS': 'NOUN', 'num': 'MS', 'position': 'B'},\n  {'surface': 'انتظر', 'POS': 'V', 'num': '', 'position': 'B'},\n  {'surface': 'إسبانيا', 'POS': 'NOUN', 'num': 'MS', 'position': 'B'},\n  {'surface': 'عود +ة', 'POS': 'NOUN+NSUFF', 'num': 'FS', 'position': 'B'},\n  {'surface': 'تحقيق', 'POS': 'NOUN', 'num': 'MS', 'position': 'B'},\n  {'surface': 'قضي +ة', 'POS': 'NOUN+NSUFF', 'num': 'FS', 'position': 'B'},\n  {'surface': 'فساد', 'POS': 'NOUN', 'num': 'MS', 'position': 'B'},\n  {'surface': 'تعلق', 'POS': 'V', 'num': '', 'position': 'B'},\n  {'surface': 'سوء', 'POS': 'NOUN', 'num': 'MS', 'position': 'B'},\n  {'surface': 'إدار +ة', 'POS': 'NOUN+NSUFF', 'num': 'FS', 'position': 'B'},\n  {'surface': 'غسل', 'POS': 'NOUN', 'num': 'MS', 'position': 'B'},\n  {'surface': 'مال', 'POS': 'NOUN', 'num': 'MS', 'position': 'B'},\n  {'surface': 'أعلن', 'POS': 'V', 'num': '', 'position': 'B'},\n  {'surface': 'نادي', 'POS': 'NOUN', 'num': 'MS', 'position': 'B'},\n  {'surface': 'مانشستر', 'POS': 'NOUN', 'num': 'MS', 'position': 'B'},\n  {'surface': 'يونايتد', 'POS': 'NOUN', 'num': 'MS', 'position': 'B'},\n  {'surface': 'يوم', 'POS': 'NOUN', 'num': 'MS', 'position': 'B'},\n  {'surface': 'أربعاء', 'POS': 'NOUN', 'num': 'MS', 'position': 'B'},\n  {'surface': 'إصاب +ة', 'POS': 'NOUN+NSUFF', 'num': 'FS', 'position': 'B'},\n  {'surface': 'لاعب', 'POS': 'NOUN', 'num': 'MS', 'position': 'B'},\n  {'surface': 'أرجنتيني', 'POS': 'NOUN', 'num': 'MS', 'position': 'B'},\n  {'surface': 'ليساندرو', 'POS': 'NOUN', 'num': 'MS', 'position': 'B'},\n  {'surface': 'مارتينيز', 'POS': 'NOUN', 'num': 'MS', 'position': 'B'},\n  {'surface': 'سويدي', 'POS': 'NOUN', 'num': 'MS', 'position': 'B'},\n  {'surface': 'فيكتور', 'POS': 'NOUN', 'num': 'MS', 'position': 'B'},\n  {'surface': 'ليندلوف', 'POS': 'NOUN', 'num': 'MS', 'position': 'B'},\n  {'surface': 'كشف', 'POS': 'V', 'num': '', 'position': 'B'},\n  {'surface': 'مد +ة', 'POS': 'NOUN+NSUFF', 'num': 'FS', 'position': 'B'},\n  ...]}"
     },
     "execution_count": 45,
     "metadata": {},
     "output_type": "execute_result"
    }
   ],
   "source": [
    "PoS_url = 'https://farasa.qcri.org/webapi/pos/'\n",
    "payload = {'text': \" \".join(lemmetized_words_f), 'api_key': api_key}\n",
    "data = requests.post(PoS_url, data=payload)\n",
    "result = json.loads(data.text)\n",
    "result"
   ],
   "metadata": {
    "collapsed": false,
    "ExecuteTime": {
     "end_time": "2024-04-04T17:02:47.574668800Z",
     "start_time": "2024-04-04T17:02:43.633309500Z"
    }
   },
   "id": "29cef532ee719c63"
  },
  {
   "cell_type": "code",
   "execution_count": 51,
   "outputs": [
    {
     "data": {
      "text/plain": "         word     PoS_Tag\n0           S           S\n1         ميس        NOUN\n2        واصل           V\n3        غياب        NOUN\n4        إنتر        NOUN\n...       ...         ...\n1507      سوء        NOUN\n1508  إدار +ة  NOUN+NSUFF\n1509      غسل        NOUN\n1510      مال        NOUN\n1511        E           E\n\n[1512 rows x 2 columns]",
      "text/html": "<div>\n<style scoped>\n    .dataframe tbody tr th:only-of-type {\n        vertical-align: middle;\n    }\n\n    .dataframe tbody tr th {\n        vertical-align: top;\n    }\n\n    .dataframe thead th {\n        text-align: right;\n    }\n</style>\n<table border=\"1\" class=\"dataframe\">\n  <thead>\n    <tr style=\"text-align: right;\">\n      <th></th>\n      <th>word</th>\n      <th>PoS_Tag</th>\n    </tr>\n  </thead>\n  <tbody>\n    <tr>\n      <th>0</th>\n      <td>S</td>\n      <td>S</td>\n    </tr>\n    <tr>\n      <th>1</th>\n      <td>ميس</td>\n      <td>NOUN</td>\n    </tr>\n    <tr>\n      <th>2</th>\n      <td>واصل</td>\n      <td>V</td>\n    </tr>\n    <tr>\n      <th>3</th>\n      <td>غياب</td>\n      <td>NOUN</td>\n    </tr>\n    <tr>\n      <th>4</th>\n      <td>إنتر</td>\n      <td>NOUN</td>\n    </tr>\n    <tr>\n      <th>...</th>\n      <td>...</td>\n      <td>...</td>\n    </tr>\n    <tr>\n      <th>1507</th>\n      <td>سوء</td>\n      <td>NOUN</td>\n    </tr>\n    <tr>\n      <th>1508</th>\n      <td>إدار +ة</td>\n      <td>NOUN+NSUFF</td>\n    </tr>\n    <tr>\n      <th>1509</th>\n      <td>غسل</td>\n      <td>NOUN</td>\n    </tr>\n    <tr>\n      <th>1510</th>\n      <td>مال</td>\n      <td>NOUN</td>\n    </tr>\n    <tr>\n      <th>1511</th>\n      <td>E</td>\n      <td>E</td>\n    </tr>\n  </tbody>\n</table>\n<p>1512 rows × 2 columns</p>\n</div>"
     },
     "execution_count": 51,
     "metadata": {},
     "output_type": "execute_result"
    }
   ],
   "source": [
    "pos_df = pd.DataFrame({\"word\":[i['surface'] for i in result[\"text\"]],'PoS_Tag':[i['POS'] for i in result[\"text\"]]})\n",
    "pos_df"
   ],
   "metadata": {
    "collapsed": false,
    "ExecuteTime": {
     "end_time": "2024-04-04T17:12:19.887698700Z",
     "start_time": "2024-04-04T17:12:19.860851500Z"
    }
   },
   "id": "49dcd81f264db649"
  },
  {
   "cell_type": "markdown",
   "source": [
    "#### Named Entity Recognizer Using Farasa"
   ],
   "metadata": {
    "collapsed": false
   },
   "id": "5dd4a58746647332"
  },
  {
   "cell_type": "code",
   "execution_count": 52,
   "outputs": [
    {
     "data": {
      "text/plain": "{'text': ['ميس/O',\n  'واصل/O',\n  'غياب/O',\n  'إنتر/B-ORG',\n  'ميامي/I-ORG',\n  'خسر/O',\n  'باريس/B-ORG',\n  'سان/I-ORG',\n  'جيرمان/I-ORG',\n  'عاد/O',\n  'نهائي/O',\n  'كأس/O',\n  'فرنسا/B-LOC',\n  'واجه/O',\n  'ليون/B-ORG',\n  'أرجنتين/I-ORG',\n  'حافظ/B-PERS',\n  'تصنيف/O',\n  'فيفا/O',\n  'بطولة/O',\n  'وصل/O',\n  'حكمة/O',\n  'هزم/O',\n  'رياضي/O',\n  'فرض/O',\n  'مباراة/O',\n  'فاصل/O',\n  'مانشستر/B-ORG',\n  'سيتي/I-ORG',\n  'اكتسح/O',\n  'أستون/B-ORG',\n  'فيلا/I-ORG',\n  'رباعي/I-ORG',\n  'فيورنتينا/B-ORG',\n  'هزم/O',\n  'أتالانتا/O',\n  'ذهاب/O',\n  'نصف/O',\n  'نهائي/O',\n  'كأس/O',\n  'إيطاليا/B-LOC',\n  'فيديو/O',\n  'بريميرليغ/O',\n  'أرسنال/B-ORG',\n  'تصدر/O',\n  'موقت/O',\n  'فوز/O',\n  'لوت/O',\n  'تاون/O',\n  'اعتقال/O',\n  'مطار/O',\n  'مدريد/B-LOC',\n  'إطلاق/O',\n  'سراح/O',\n  'لويس/O',\n  'روبياليس/O',\n  'مانشستر/B-ORG',\n  'يونايتد/I-ORG',\n  'أعلن/O',\n  'إصابة/O',\n  'ليساندرو/B-PERS',\n  'مارتينيز/I-PERS',\n  'ليندلوف/O',\n  'اعتقال/O',\n  'رئيس/O',\n  'اتحاد/O',\n  'إسباني/O',\n  'سابق/O',\n  'لويس/B-PERS',\n  'روبياليس/I-PERS',\n  'فار/I-PERS',\n  'أصاب/O',\n  'ارتجاج/O',\n  'دماغ/O',\n  'احذر/O',\n  'ضربة/O',\n  'رأسي/O',\n  'روبياليس/O',\n  'خرج/O',\n  'صمت/O',\n  'علاقة/O',\n  'سعودية/O',\n  'غاب/O',\n  'أرجنتيني/O',\n  'ليونيل/B-PERS',\n  'ميس/I-PERS',\n  'عانى/O',\n  'إصابة/O',\n  'عضلي/O',\n  'منتصف/O',\n  'آذار/O',\n  'مارس/B-PERS',\n  'ماضي/I-PERS',\n  'مباراة/O',\n  'فريق/O',\n  'إنتر/B-ORG',\n  'ميامي/I-ORG',\n  'أمريكي/I-ORG',\n  'مونتيري/B-LOC',\n  'مكسيكي/O',\n  'ذهاب/O',\n  'ربع/O',\n  'نهائي/O',\n  'كأس/O',\n  'بطل/O',\n  'كونكاكاف/B-ORG',\n  'أقام/O',\n  'مباراة/O',\n  'فجر/O',\n  'يوم/O',\n  'خميس/O',\n  'خسر/O',\n  'فريق/O',\n  'أمريكي/O',\n  'هدف/O',\n  'مقابل/O',\n  'هدف/O',\n  'تجنب/O',\n  'مدرب/O',\n  'إنتر/B-ORG',\n  'ميامي/O',\n  'جيراردو/B-PERS',\n  'تاتا/I-PERS',\n  'مارتينو/I-PERS',\n  'بت/O',\n  'مشاركة/O',\n  'ميس/O',\n  'علق/O',\n  'قائل/O',\n  'قد/O',\n  'تدرب/O',\n  'ثلاثاء/O',\n  'فعل/O',\n  'غد/O',\n  'أربعاء/O',\n  'حدد/O',\n  'زال/O',\n  '24/O',\n  'ساعة/O',\n  'متبقي/O',\n  'مواجهة/O',\n  'لم/O',\n  'شارك/O',\n  'ميس/O',\n  'نهاية/O',\n  'أمر/O',\n  'مباراة/O',\n  'تشكيلة/O',\n  'أساسي/O',\n  'إنتر/B-ORG',\n  'ميامي/I-ORG',\n  'ضم/O',\n  'لويس/B-PERS',\n  'سواريز/I-PERS',\n  'سيرجيو/B-PERS',\n  'بوسكيتس/I-PERS',\n  'جوردي/I-PERS',\n  'ألبا/I-PERS',\n  'أشار/O',\n  'ميس/O',\n  'تدرب/O',\n  'زميل/O',\n  'ثلاثاء/O',\n  'لعب/O',\n  'مباراة/O',\n  'لقاء/O',\n  'شارك/O',\n  'ناشفيل/B-LOC',\n  '13/O',\n  'آذار/O',\n  'مارس/B-PERS',\n  'ماضي/I-PERS',\n  'غاب/O',\n  'ميس/O',\n  'حين/O',\n  'مباراة/O',\n  'واحد/O',\n  'منتخب/O',\n  'أرجنتين/B-LOC',\n  'و/O',\n  '3/O',\n  'مباراة/O',\n  'إنتر/B-ORG',\n  'ميامي/O',\n  'دي/O',\n  'سي/O',\n  'يونايتد/B-ORG',\n  'نيويورك/B-LOC',\n  'ريد/O',\n  'بولز/B-ORG',\n  'نيويورك/B-LOC',\n  'سيتي/O',\n  'تأهل/O',\n  'باريس/B-ORG',\n  'سان/I-ORG',\n  'جيرمان/I-ORG',\n  'نهائي/O',\n  'كأس/O',\n  'فرنسا/B-LOC',\n  'كرة/O',\n  'قدم/O',\n  'بعدما/O',\n  'فاز/O',\n  'أربعاء/O',\n  'ضيف/O',\n  'رين/B-LOC',\n  'هدف/O',\n  'رد/O',\n  'سجل/O',\n  'كلي/O',\n  'مبابي/O',\n  'مباراة/O',\n  'نصف/O',\n  'نهائي/O',\n  'بطولة/O',\n  'بعد/O',\n  'أهدر/O',\n  'مبابي/O',\n  'ضربة/O',\n  'جزاء/O',\n  'باريس/B-ORG',\n  'سان/I-ORG',\n  'جيرمان/I-ORG',\n  'دقيقة/O',\n  'ال/O',\n  '37/O',\n  'سجل/O',\n  'هدف/O',\n  'مباراة/O',\n  'وحيد/O',\n  '3/O',\n  'دقيقة/O',\n  'فقط/O',\n  'واجه/O',\n  'باريس/B-ORG',\n  'سان/I-ORG',\n  'جيرمان/I-ORG',\n  'نهائي/O',\n  'ليون/B-ORG',\n  'نهائي/O',\n  'بطولة/O',\n  'كأس/O',\n  '12/O',\n  'عام/O',\n  'غياب/O',\n  'بإقصائه/O',\n  'أنسى/O',\n  'تاقم/O',\n  'مباراة/O',\n  'نهائي/O',\n  'كأس/O',\n  'فرنسا/B-LOC',\n  '25/O',\n  'أيار/O',\n  'مايو/O',\n  'مقبل/O',\n  'طمح/O',\n  'سان/O',\n  'جيرمان/B-PERS',\n  'ودع/O',\n  'مسابقة/O',\n  'ثمن/O',\n  'نهائي/O',\n  'موسم/O',\n  'أخير/O',\n  'يد/O',\n  'نيس/B-LOC',\n  'مرسيليا/B-LOC',\n  'ترتيب/O',\n  'استعادة/O',\n  'سيطرة/O',\n  'كأس/O',\n  'توج/O',\n  '6/O',\n  'مرة/O',\n  'موسم/O',\n  'تسع/O',\n  'أخير/O',\n  'سعي/O',\n  'ثلاثي/O',\n  'تصدر/O',\n  'دوري/O',\n  'فارق/O',\n  '12/O',\n  'نقطة/O',\n  'أقرب/O',\n  'مطارد/O',\n  'بريس/O',\n  'خاض/O',\n  'ربع/O',\n  'نهائي/O',\n  'مسابقة/O',\n  'دوري/O',\n  'بطل/O',\n  'أوربا/O',\n  'لاقى/O',\n  'برشلونه/B-ORG',\n  'إسباني/O',\n  'في/O',\n  'مقابل/O',\n  'يأمل/O',\n  'ليون/B-LOC',\n  'متوج/O',\n  'لقب/O',\n  'مسابقة/O',\n  '5/O',\n  'مرة/O',\n  'بين/O',\n  'واحد/O',\n  'حساب/O',\n  'باريس/B-ORG',\n  'سان/I-ORG',\n  'جيرمان/I-ORG',\n  'عام/O',\n  '2008/O',\n  'حافظ/O',\n  'منتخب/O',\n  'أرجنتين/B-LOC',\n  'صدارة/O',\n  'تصنيف/O',\n  'اتحاد/O',\n  'دولي/O',\n  'كرة/O',\n  'قدم/O',\n  'فيفا/B-ORG',\n  'بين/O',\n  'حل/O',\n  'برازيل/B-LOC',\n  'مركز/O',\n  'خامس/O',\n  'ارتقى/O',\n  'ولاية/O',\n  'متحد/O',\n  'كولومبيا/B-LOC',\n  'مكسيك/I-LOC',\n  'مركز/O',\n  'نشر/O',\n  'فيفا/B-ORG',\n  'يوم/O',\n  'خميس/O',\n  'أحدث/O',\n  'تصنيف/O',\n  '174/O',\n  'مباراة/O',\n  'خلال/O',\n  'فترة/O',\n  'توقف/O',\n  'دولي/O',\n  'أخير/O',\n  'تصفية/O',\n  'آسيا/B-LOC',\n  'مونديال/O',\n  '2026/O',\n  'مرحلة/O',\n  'نهائي/O',\n  'دوري/O',\n  'أمة/O',\n  'كونكاكاف/B-ORG',\n  'مباراة/O',\n  'ودي/O',\n  'ست/O',\n  'اتحاد/B-ORG',\n  'استمر/O',\n  'أرجنتين/B-LOC',\n  'صدارة/O',\n  'شهد/O',\n  'مركز/O',\n  'ال/O',\n  '10/O',\n  'أول/O',\n  'تغير/O',\n  'استثناء/O',\n  'ترقي/O',\n  'بلجيكا/B-ORG',\n  'مركز/O',\n  'ثالث/O',\n  'حساب/O',\n  'إنكلترا/B-LOC',\n  'جاء/O',\n  'برازيل/B-LOC',\n  'مركز/O',\n  'خامس/O',\n  'ولي/O',\n  'برتغال/B-LOC',\n  'سادس/O',\n  'حل/O',\n  'هولاندا/B-ORG',\n  'مركز/O',\n  'سابع/O',\n  'كما/O',\n  'ظهر/O',\n  'ولاية/O',\n  'متحد/O',\n  'مركز/O',\n  'ال/O',\n  '11/O',\n  'متقدم/O',\n  'كولومبيا/B-LOC',\n  'صاحب/O',\n  'مركز/O',\n  'ال/O',\n  '12/O',\n  'قفز/O',\n  'مكسيك/B-ORG',\n  'مركز/O',\n  'وصل/O',\n  'مرتبة/O',\n  'ال/O',\n  '14/O',\n  'متفوق/O',\n  'أوروغواي/B-LOC',\n  'ال/O',\n  '15/O',\n  'فرض/O',\n  'حكمة/O',\n  'لبناني/O',\n  'مباراة/O',\n  'فاصل/O',\n  'غريم/O',\n  'مواطن/O',\n  'رياضي/O',\n  'سلسلة/O',\n  'نصف/O',\n  'نهائي/O',\n  'بطولة/O',\n  'وصل/O',\n  'منطقة/O',\n  'غرب/O',\n  'آسيا/B-LOC',\n  'فوز/O',\n  'مباراة/O',\n  'ثاني/O',\n  'وقت/O',\n  'إضافي/O',\n  'فارق/O',\n  '3/O',\n  'نقطة/O',\n  'واقع/O',\n  '109-106/O',\n  'فاق/O',\n  'حكمة/O',\n  'ربع/O',\n  'أول/O',\n  'نتيجة/O',\n  '25-21/O',\n  'نجح/O',\n  'رياضي/O',\n  'تقليص/O',\n  'فارق/O',\n  'ربع/O',\n  'ثاني/O',\n  'انتهى/O',\n  'شوط/O',\n  'أول/O',\n  'مصلحة/O',\n  'صاحب/O',\n  'أرض/O',\n  'نتيجة/O',\n  '44-42/O',\n  'نجح/O',\n  'رياضي/O',\n  'حسم/O',\n  'ربع/O',\n  'ثالث/O',\n  'مصلحة/O',\n  '30-27/O',\n  'شهد/O',\n  'ربع/O',\n  'رابع/O',\n  'إثارة/O',\n  'كبير/O',\n  'حيث/O',\n  'وسع/O',\n  'رياضي/O',\n  'فارق/O',\n  'عاد/O',\n  'حكمة/O',\n  'أنهى/O',\n  'وقت/O',\n  'أصلي/O',\n  'مباراة/O',\n  'نتيجة/O',\n  'تعادل/O',\n  '95-95/O',\n  'في/O',\n  'وقت/O',\n  'إضافي/O',\n  'فاق/O',\n  'لاعب/O',\n  'حكمة/O',\n  'سجل/O',\n  '14/O',\n  'نقطة/O',\n  'سلة/O',\n  'رياضي/O',\n  'مقابل/O',\n  '11/O',\n  'نقطة/O',\n  'أخير/O',\n  'انتهى/O',\n  'مباراة/O',\n  'فوز/O',\n  'أخضر/O',\n  'نتيجة/O',\n  '109-106/O',\n  'علم/O',\n  'أن/O',\n  'مباراة/O',\n  'أول/O',\n  'انتهى/O',\n  'فوز/O',\n  'رياضي/O',\n  'فارق/O',\n  '3/O',\n  'نقطة/O',\n  'أيض/O',\n  'كان/O',\n  'كليانتوني/B-PERS',\n  'إيرل/I-PERS',\n  'أفضل/O',\n  'لاعب/O',\n  'صف/O',\n  'حكمة/O',\n  'تحقيق/O',\n  'ثنائي/O',\n  'مزدوج/O',\n  'دابل/O',\n  'دابل/O',\n  'تسجيل/O',\n  '30/O',\n  'نقطة/O',\n  'و/O',\n  '21/O',\n  'متابعة/O',\n  'أضاف/O',\n  'أحمد/B-PERS',\n  'إبراهيم/I-PERS',\n  '25/O',\n  'نقطة/O',\n  'جوناثان/B-PERS',\n  'غيبسون/I-PERS',\n  '24/O',\n  'نقطة/O',\n  'من/O',\n  'ناحية/O',\n  'رياضي/O',\n  'وائل/O',\n  'عرقجي/O',\n  'أفضل/O',\n  'إحراز/O',\n  '28/O',\n  'نقطة/O',\n  '3/O',\n  'متابعة/O',\n  'و/O',\n  '9/O',\n  'تمرير/O',\n  'حاسم/O',\n  'حقق/O',\n  'دين/B-PERS',\n  'كيكانوفيتش/I-PERS',\n  'دابل/O',\n  'دابل/O',\n  'تسجيل/O',\n  '15/O',\n  'نقطة/O',\n  '16/O',\n  'متابعة/O',\n  'أقام/O',\n  'مباراة/O',\n  'فاصل/O',\n  'فريق/O',\n  'ال/O',\n  '17/O',\n  'نيسان/O',\n  'أبريل/O',\n  'جاري/B-PERS',\n  'مجمع/O',\n  'نوفل/B-ORG',\n  'معقل/O',\n  'نادي/O',\n  'رياضي/O',\n  'بطولة/O',\n  'وصل/O',\n  'اكتسح/O',\n  'مانشستر/B-ORG',\n  'سيتي/I-ORG',\n  'ضيف/O',\n  'أستون/B-ORG',\n  'فيلا/I-ORG',\n  'أربع/O',\n  'هدف/O',\n  'مقابل/O',\n  'هدف/O',\n  'أربعاء/O',\n  'ضمن/O',\n  'منافسة/O',\n  'جولة/O',\n  'ال/O',\n  '31/O',\n  'دوري/O',\n  'إنكليزي/O',\n  'ممتاز/O',\n  'بريميرليغ/O',\n  'افتتح/O',\n  'رودري/O',\n  'تسجيل/O',\n  'مانشستر/B-ORG',\n  'سيتي/I-ORG',\n  'دقيقة/O',\n  'ال/O',\n  '11/O',\n  'أدرك/O',\n  'جون/O',\n  'دوران/O',\n  'تعادل/O',\n  'أستون/B-ORG',\n  'فيلا/I-ORG',\n  'دقيقة/O',\n  'ال/O',\n  '20/O',\n  'أعاد/O',\n  'فيل/O',\n  'ود/O',\n  'تقدم/O',\n  'مجدد/O',\n  'صاحب/O',\n  'أرض/O',\n  'دقيقة/O',\n  'أول/O',\n  'وقت/O',\n  'بدل/O',\n  'ضائع/O',\n  'في/O',\n  'شوط/O',\n  'ثاني/O',\n  'عزز/O',\n  'ود/O',\n  'نتيجة/O',\n  'فريق/O',\n  'دقيقة/O',\n  'ال/O',\n  '62/O',\n  'بعد/O',\n  '7/O',\n  'دقيقة/O',\n  'سجل/O',\n  'سجل/O',\n  'ود/O',\n  'هدف/O',\n  'شخصي/O',\n  'ثالث/O',\n  'محقق/O',\n  'هاتريك/O',\n  'رابع/O',\n  'فريق/O',\n  'انتهى/O',\n  'مباراة/O',\n  'نتيجة/O',\n  '4-1/O',\n  'رفع/O',\n  'مانشستر/B-ORG',\n  'سيتي/I-ORG',\n  'رصيد/O',\n  'هذا/O',\n  'فوز/O',\n  '67/O',\n  'نقطة/O',\n  'مركز/O',\n  'ثالث/O',\n  'تجمد/O',\n  'رصيد/O',\n  'أستون/B-ORG',\n  'فيلا/I-ORG',\n  '59/O',\n  'نقطة/O',\n  'مركز/O',\n  'رابع/O',\n  'فاز/O',\n  'فيورنتينا/B-ORG',\n  'ضيف/I-ORG',\n  'أتالانتا/I-ORG',\n  'هدف/O',\n  'مقابل/O',\n  'لاشيء/O',\n  'أربعاء/O',\n  'ذهاب/O',\n  'دور/O',\n  'نصف/O',\n  'نهائي/O',\n  'بطولة/O',\n  'كأس/O',\n  'إيطاليا/B-LOC',\n  'أدان/O',\n  'فيورنتينا/O',\n  'هذا/O',\n  'فوز/O',\n  'لاعب/O',\n  'رولاندو/B-PERS',\n  'ماندراغورا/I-PERS',\n  'سجل/O',\n  'هدف/O',\n  'مباراة/O',\n  'وحيد/O',\n  'دقيقة/O',\n  'ال/O',\n  '31/O',\n  'تسديدة/O',\n  'صاروخي/O',\n  'خارج/O',\n  'منطقة/O',\n  'جزاء/O',\n  'أقام/O',\n  'مباراة/O',\n  'إياب/O',\n  'فريق/O',\n  'ال/O',\n  '24/O',\n  'نيسان/O',\n  'أبريل/O',\n  'جاري/B-PERS',\n  'في/O',\n  'نصف/O',\n  'نهائي/O',\n  'آخر/O',\n  'فاز/O',\n  'يوفنتوس/B-ORG',\n  'لاتسيو/I-ORG',\n  'هدف/O',\n  'مقابل/O',\n  'شيء/O',\n  'ثلاثاء/O',\n  'ملعب/O',\n  'أليانز/O',\n  'ستاديوم/O',\n  'معقل/O',\n  'بيانكونيري/O',\n  'فاز/O',\n  'أرسنال/B-ORG',\n  'ضيف/I-ORG',\n  'لوت/I-ORG',\n  'تاون/I-ORG',\n  'هدف/O',\n  'مقابل/O',\n  'لاشيء/O',\n  'أربعاء/O',\n  'ضمن/O',\n  'منافسة/O',\n  'جولة/O',\n  'ال/O',\n  '31/O',\n  'دوري/O',\n  'إنكليزي/O',\n  'ممتاز/O',\n  'بريميرليغ/O',\n  'سجل/O',\n  'هدف/O',\n  'أرسنال/B-ORG',\n  'مارتن/O',\n  'أوديغارد/O',\n  'دقيقة/O',\n  'ال/O',\n  '24/O',\n  'دايكي/B-PERS',\n  'هاشيوكا/O',\n  'دقيقة/O',\n  'ال/O',\n  '44/O',\n  'خطأ/O',\n  'مرمى/O',\n  'رفع/O',\n  'أرسنال/B-ORG',\n  'رصيد/O',\n  'هذا/O',\n  'فوز/O',\n  '68/O',\n  'نقطة/O',\n  'صدارة/O',\n  'ترتيب/O',\n  'موقت/O',\n  'انتظار/O',\n  'مباراة/O',\n  'ليفربول/B-ORG',\n  'شيفيلد/B-PERS',\n  'يونايتد/B-ORG',\n  'خميس/I-ORG',\n  'بقي/O',\n  'لوت/B-LOC',\n  'تاون/I-LOC',\n  'مركز/O',\n  'ال/O',\n  '18/O',\n  'رصيد/O',\n  '22/O',\n  'نقطة/O',\n  'في/O',\n  'مباراة/O',\n  'آخر/O',\n  'ضمن/O',\n  'جولة/O',\n  'نفس/O',\n  'عادل/B-PERS',\n  'برينتفورد/I-PERS',\n  'ضيف/O',\n  'برايتون/B-LOC',\n  'ليتاقسم/O',\n  'فريق/O',\n  'نقطة/O',\n  'مباراة/O',\n  'نقطة/O',\n  'كل/O',\n  'من/O',\n  'أطلق/O',\n  'حرس/O',\n  'مدني/O',\n  'سراح/O',\n  'رئيس/O',\n  'اتحاد/O',\n  'إسباني/O',\n  'سابق/O',\n  'لويس/B-PERS',\n  'روبياليس/I-PERS',\n  'فترة/O',\n  'وجيز/O',\n  'اعتقال/O',\n  'وصول/O',\n  'مطار/O',\n  'أدولفو/B-PERS',\n  'سواريز/I-PERS',\n  'مدريد/B-LOC',\n  'باراخاس/O',\n  'أكد/O',\n  'حرس/O',\n  'مدني/O',\n  'أن/O',\n  'إطلاق/O',\n  'سراح/O',\n  'روبياليس/B-PERS',\n  'جاء/O',\n  'إدلاء/O',\n  'شهادة/O',\n  'وحدة/O',\n  'حرس/O',\n  'مبنى/O',\n  'رقم/O',\n  '4/O',\n  'مطار/O',\n  'انتظر/O',\n  'استدعاء/O',\n  'مثول/O',\n  'محكمة/O',\n  'اتهم/O',\n  'روبياليس/O',\n  'قضية/O',\n  'عقد/O',\n  'قانوني/O',\n  'خلال/O',\n  'فترة/O',\n  'رئاسة/O',\n  'اتحاد/O',\n  'إسباني/O',\n  'كان/O',\n  'روبياليس/O',\n  'سافر/O',\n  'دومينيكان/B-LOC',\n  'ربط/O',\n  'اتفاقية/O',\n  'إسبانيا/B-LOC',\n  'شأن/O',\n  'تسليم/O',\n  'مطلوب/O',\n  'قضائي/O',\n  'قال/O',\n  'روبياليس/O',\n  'حوار/O',\n  'قناة/O',\n  'La/O',\n  'Sexta/O',\n  'إسباني/O',\n  'نشر/O',\n  'صحيفة/O',\n  'مارك/B-PERS',\n  'مقتطف/I-PERS',\n  'قال/O',\n  'صحيح/O',\n  'أن/O',\n  'حصل/O',\n  'رشى/O',\n  'خلال/O',\n  'شقة/O',\n  'دومينيكان/B-LOC',\n  'أضاف/O',\n  'صحيح/O',\n  'أن/O',\n  'حقق/O',\n  'مكسب/O',\n  'كبير/O',\n  'كاب/B-ORG',\n  'فيردي/I-ORG',\n  'غير/O',\n  'صحيح/O',\n  'أن/O',\n  'ملك/O',\n  'أرض/O',\n  'بناء/O',\n  'فندق/O',\n  'سعودية/O',\n  'نظير/O',\n  'إقامة/O',\n  'سوبر/O',\n  'إسباني/O',\n  'رياض/O',\n  'واصل/O',\n  'نفي/O',\n  'عديد/O',\n  'شائع/O',\n  'مرتبط/O',\n  'حول/O',\n  'مال/O',\n  'دومينيكان/O',\n  'ليس/O',\n  'لدى/O',\n  'فريق/O',\n  'بيسبول/O',\n  'هنا/O',\n  'علاقة/O',\n  'ادعاء/O',\n  'قدم/O',\n  'وسيلة/O',\n  'إعلام/O',\n  'مال/O',\n  'موجود/O',\n  'حساب/O',\n  'مال/O',\n  'حساب/O',\n  'نتاج/O',\n  'عمل/O',\n  'مدخر/O',\n  'في/O',\n  'تعلق/O',\n  'رحلة/O',\n  'عديد/O',\n  'خلال/O',\n  'فترة/O',\n  'رئاسة/O',\n  'اتحاد/O',\n  'إسباني/O',\n  'عنى/O',\n  'ذلك/O',\n  'وجب/O',\n  'رئيس/O',\n  'عاش/O',\n  'فقاعة/O',\n  'بعيد/O',\n  'مجتمع/O',\n  'ذكر/O',\n  'ادعاء/O',\n  'عام/O',\n  'طالب/O',\n  'سجن/O',\n  'روبياليس/O',\n  'مدة/O',\n  'عام/O',\n  'نصف/O',\n  'عام/O',\n  'سبب/O',\n  'قبلة/O',\n  'هيرموسو/O',\n  'بين/O',\n  'انتظر/O',\n  'إسبانيا/B-LOC',\n  'عودة/O',\n  'تحقيق/O',\n  'قضية/O',\n  'فساد/O',\n  'تعلق/O',\n  'سوء/O',\n  'إدارة/O',\n  'غسل/O',\n  'مال/O',\n  'أعلن/O',\n  'نادي/O',\n  'مانشستر/B-ORG',\n  'يونايتد/I-ORG',\n  'يوم/O',\n  'أربعاء/O',\n  'إصابة/O',\n  'لاعب/O',\n  'أرجنتيني/O',\n  'ليساندرو/B-PERS',\n  'مارتينيز/I-PERS',\n  'سويدي/I-PERS',\n  'فيكتور/B-PERS',\n  'ليندلوف/I-PERS',\n  'كشف/O',\n  'مدة/O',\n  'غياب/O',\n  'تعرض/O',\n  'ليندلوف/O',\n  'إصابة/O',\n  ...]}"
     },
     "execution_count": 52,
     "metadata": {},
     "output_type": "execute_result"
    }
   ],
   "source": [
    "NER_url = 'https://farasa.qcri.org/webapi/ner/'\n",
    "payload = {'text': \" \".join(lemmetized_words_f), 'api_key': api_key}\n",
    "data = requests.post(NER_url, data=payload)\n",
    "result = json.loads(data.text)\n",
    "result"
   ],
   "metadata": {
    "collapsed": false,
    "ExecuteTime": {
     "end_time": "2024-04-04T17:15:42.800229600Z",
     "start_time": "2024-04-04T17:15:26.775877300Z"
    }
   },
   "id": "51766c318d1ac14c"
  },
  {
   "cell_type": "code",
   "execution_count": 53,
   "outputs": [
    {
     "data": {
      "text/plain": "       word NER_Tag\n0       ميس       O\n1      واصل       O\n2      غياب       O\n3      إنتر   B-ORG\n4     ميامي   I-ORG\n...     ...     ...\n1499   تعلق       O\n1500    سوء       O\n1501  إدارة       O\n1502    غسل       O\n1503    مال       O\n\n[1504 rows x 2 columns]",
      "text/html": "<div>\n<style scoped>\n    .dataframe tbody tr th:only-of-type {\n        vertical-align: middle;\n    }\n\n    .dataframe tbody tr th {\n        vertical-align: top;\n    }\n\n    .dataframe thead th {\n        text-align: right;\n    }\n</style>\n<table border=\"1\" class=\"dataframe\">\n  <thead>\n    <tr style=\"text-align: right;\">\n      <th></th>\n      <th>word</th>\n      <th>NER_Tag</th>\n    </tr>\n  </thead>\n  <tbody>\n    <tr>\n      <th>0</th>\n      <td>ميس</td>\n      <td>O</td>\n    </tr>\n    <tr>\n      <th>1</th>\n      <td>واصل</td>\n      <td>O</td>\n    </tr>\n    <tr>\n      <th>2</th>\n      <td>غياب</td>\n      <td>O</td>\n    </tr>\n    <tr>\n      <th>3</th>\n      <td>إنتر</td>\n      <td>B-ORG</td>\n    </tr>\n    <tr>\n      <th>4</th>\n      <td>ميامي</td>\n      <td>I-ORG</td>\n    </tr>\n    <tr>\n      <th>...</th>\n      <td>...</td>\n      <td>...</td>\n    </tr>\n    <tr>\n      <th>1499</th>\n      <td>تعلق</td>\n      <td>O</td>\n    </tr>\n    <tr>\n      <th>1500</th>\n      <td>سوء</td>\n      <td>O</td>\n    </tr>\n    <tr>\n      <th>1501</th>\n      <td>إدارة</td>\n      <td>O</td>\n    </tr>\n    <tr>\n      <th>1502</th>\n      <td>غسل</td>\n      <td>O</td>\n    </tr>\n    <tr>\n      <th>1503</th>\n      <td>مال</td>\n      <td>O</td>\n    </tr>\n  </tbody>\n</table>\n<p>1504 rows × 2 columns</p>\n</div>"
     },
     "execution_count": 53,
     "metadata": {},
     "output_type": "execute_result"
    }
   ],
   "source": [
    "ner_df = pd.DataFrame({\"word\":[i.split(sep='/')[0] for i in result[\"text\"]],'NER_Tag':[i.split(sep='/')[1] for i in result[\"text\"]]})\n",
    "ner_df"
   ],
   "metadata": {
    "collapsed": false,
    "ExecuteTime": {
     "end_time": "2024-04-04T17:25:46.991445700Z",
     "start_time": "2024-04-04T17:25:46.914848100Z"
    }
   },
   "id": "57d0bbdf7930c4d9"
  },
  {
   "cell_type": "markdown",
   "source": [
    "### Conclution\n",
    "Throughout this NoteBook i have learned to use BeautifulSoup to scrap Data from a website, deal with the encoding of arabic, make simple CRUD operations using MongoDB in Python, establishing a good NLP pipeline that can deal with Arabic, research how the NLP is used to treat Arabic with different technics.\n",
    "to sum up everything that has been said the technics and researches that where made in this domain, although they are still not enough but giving the difficulty of the language and the lack of good and financed scientific research in this field its understandable, and we hope to continue making it better"
   ],
   "metadata": {
    "collapsed": false
   },
   "id": "947fca591fd9ae5b"
  },
  {
   "cell_type": "code",
   "execution_count": null,
   "outputs": [],
   "source": [],
   "metadata": {
    "collapsed": false
   },
   "id": "e4ec3a8b844be94a"
  }
 ],
 "metadata": {
  "kernelspec": {
   "display_name": "Python 3",
   "language": "python",
   "name": "python3"
  },
  "language_info": {
   "codemirror_mode": {
    "name": "ipython",
    "version": 2
   },
   "file_extension": ".py",
   "mimetype": "text/x-python",
   "name": "python",
   "nbconvert_exporter": "python",
   "pygments_lexer": "ipython2",
   "version": "2.7.6"
  }
 },
 "nbformat": 4,
 "nbformat_minor": 5
}
